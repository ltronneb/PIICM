{
 "cells": [
  {
   "cell_type": "markdown",
   "metadata": {},
   "source": [
    "# GP Regression with a Spectral Mixture Kernel\n",
    "\n",
    "## Introduction\n",
    "\n",
    "This example shows how to use a `SpectralMixtureKernel` module on an `ExactGP` model. This module is designed for\n",
    "\n",
    "- When you want to use exact inference (e.g. for regression)\n",
    "- When you want to use a more sophisticated kernel than RBF\n",
    "\n",
    "The Spectral Mixture (SM) kernel was invented and discussed in [Wilson et al., 2013](https://arxiv.org/pdf/1302.4245.pdf)."
   ]
  },
  {
   "cell_type": "code",
   "execution_count": 1,
   "metadata": {},
   "outputs": [],
   "source": [
    "import math\n",
    "import torch\n",
    "import gpytorch\n",
    "from matplotlib import pyplot as plt\n",
    "\n",
    "%matplotlib inline\n",
    "%load_ext autoreload\n",
    "%autoreload 2"
   ]
  },
  {
   "cell_type": "markdown",
   "metadata": {},
   "source": [
    "In the next cell, we set up the training data for this example. We'll be using 15 regularly spaced points on [0,1] which we evaluate the function on and add Gaussian noise to get the training labels."
   ]
  },
  {
   "cell_type": "code",
   "execution_count": 2,
   "metadata": {},
   "outputs": [],
   "source": [
    "train_x = torch.linspace(0, 1, 15)\n",
    "train_y = torch.sin(train_x * (2 * math.pi))"
   ]
  },
  {
   "cell_type": "markdown",
   "metadata": {},
   "source": [
    "## Set up the model\n",
    "\n",
    "The model should be very similar to the `ExactGP` model in the [simple regression example](./Simple_GP_Regression.ipynb).\n",
    "\n",
    "The only difference is here, we're using a more complex kernel (the `SpectralMixtureKernel`). This kernel requires careful initialization to work properly. To that end, in the model `__init__` function, we call\n",
    "\n",
    "```\n",
    "self.covar_module = gpytorch.kernels.SpectralMixtureKernel(n_mixtures=4)\n",
    "self.covar_module.initialize_from_data(train_x, train_y)\n",
    "```\n",
    "\n",
    "This ensures that, when we perform optimization to learn kernel hyperparameters, we will be starting from a reasonable initialization."
   ]
  },
  {
   "cell_type": "code",
   "execution_count": 5,
   "metadata": {},
   "outputs": [],
   "source": [
    "class SpectralMixtureGPModel(gpytorch.models.ExactGP):\n",
    "    def __init__(self, train_x, train_y, likelihood):\n",
    "        super(SpectralMixtureGPModel, self).__init__(train_x, train_y, likelihood)\n",
    "        self.mean_module = gpytorch.means.ConstantMean()\n",
    "        self.covar_module = gpytorch.kernels.SpectralMixtureKernel(num_mixtures=4)\n",
    "        self.covar_module.initialize_from_data(train_x, train_y)\n",
    "\n",
    "    def forward(self,x):\n",
    "        mean_x = self.mean_module(x)\n",
    "        covar_x = self.covar_module(x)\n",
    "        return gpytorch.distributions.MultivariateNormal(mean_x, covar_x)\n",
    "\n",
    "    \n",
    "likelihood = gpytorch.likelihoods.GaussianLikelihood()\n",
    "model = SpectralMixtureGPModel(train_x, train_y, likelihood)"
   ]
  },
  {
   "cell_type": "markdown",
   "metadata": {},
   "source": [
    "In the next cell, we handle using Type-II MLE to train the hyperparameters of the Gaussian process.\n",
    "The spectral mixture kernel's hyperparameters start from what was specified in `initialize_from_data`.\n",
    "\n",
    "See the [simple regression example](./Simple_GP_Regression.ipynb) for more info on this step."
   ]
  },
  {
   "cell_type": "code",
   "execution_count": 6,
   "metadata": {
    "scrolled": false
   },
   "outputs": [
    {
     "name": "stdout",
     "output_type": "stream",
     "text": [
      "Iter 1/100 - Loss: 1.281\n",
      "Iter 2/100 - Loss: 1.258\n",
      "Iter 3/100 - Loss: 1.232\n",
      "Iter 4/100 - Loss: 1.212\n",
      "Iter 5/100 - Loss: 1.192\n",
      "Iter 6/100 - Loss: 1.172\n",
      "Iter 7/100 - Loss: 1.156\n",
      "Iter 8/100 - Loss: 1.143\n",
      "Iter 9/100 - Loss: 1.131\n",
      "Iter 10/100 - Loss: 1.121\n",
      "Iter 11/100 - Loss: 1.114\n",
      "Iter 12/100 - Loss: 1.110\n",
      "Iter 13/100 - Loss: 1.106\n",
      "Iter 14/100 - Loss: 1.103\n",
      "Iter 15/100 - Loss: 1.101\n",
      "Iter 16/100 - Loss: 1.098\n",
      "Iter 17/100 - Loss: 1.094\n",
      "Iter 18/100 - Loss: 1.089\n",
      "Iter 19/100 - Loss: 1.085\n",
      "Iter 20/100 - Loss: 1.080\n",
      "Iter 21/100 - Loss: 1.076\n",
      "Iter 22/100 - Loss: 1.072\n",
      "Iter 23/100 - Loss: 1.069\n",
      "Iter 24/100 - Loss: 1.067\n",
      "Iter 25/100 - Loss: 1.065\n",
      "Iter 26/100 - Loss: 1.063\n",
      "Iter 27/100 - Loss: 1.061\n",
      "Iter 28/100 - Loss: 1.060\n",
      "Iter 29/100 - Loss: 1.057\n",
      "Iter 30/100 - Loss: 1.054\n",
      "Iter 31/100 - Loss: 1.051\n",
      "Iter 32/100 - Loss: 1.048\n",
      "Iter 33/100 - Loss: 1.044\n",
      "Iter 34/100 - Loss: 1.039\n",
      "Iter 35/100 - Loss: 1.035\n",
      "Iter 36/100 - Loss: 1.029\n",
      "Iter 37/100 - Loss: 1.023\n",
      "Iter 38/100 - Loss: 1.015\n",
      "Iter 39/100 - Loss: 1.006\n",
      "Iter 40/100 - Loss: 0.995\n",
      "Iter 41/100 - Loss: 0.981\n",
      "Iter 42/100 - Loss: 0.965\n",
      "Iter 43/100 - Loss: 0.946\n",
      "Iter 44/100 - Loss: 0.924\n",
      "Iter 45/100 - Loss: 0.898\n",
      "Iter 46/100 - Loss: 0.870\n",
      "Iter 47/100 - Loss: 0.839\n",
      "Iter 48/100 - Loss: 0.806\n",
      "Iter 49/100 - Loss: 0.770\n",
      "Iter 50/100 - Loss: 0.731\n",
      "Iter 51/100 - Loss: 0.686\n",
      "Iter 52/100 - Loss: 0.637\n",
      "Iter 53/100 - Loss: 0.583\n",
      "Iter 54/100 - Loss: 0.523\n",
      "Iter 55/100 - Loss: 0.460\n",
      "Iter 56/100 - Loss: 0.394\n",
      "Iter 57/100 - Loss: 0.327\n",
      "Iter 58/100 - Loss: 0.260\n",
      "Iter 59/100 - Loss: 0.194\n",
      "Iter 60/100 - Loss: 0.133\n",
      "Iter 61/100 - Loss: 0.078\n",
      "Iter 62/100 - Loss: 0.032\n",
      "Iter 63/100 - Loss: -0.005\n",
      "Iter 64/100 - Loss: -0.040\n",
      "Iter 65/100 - Loss: -0.086\n",
      "Iter 66/100 - Loss: -0.144\n",
      "Iter 67/100 - Loss: -0.206\n",
      "Iter 68/100 - Loss: -0.264\n",
      "Iter 69/100 - Loss: -0.313\n",
      "Iter 70/100 - Loss: -0.354\n",
      "Iter 71/100 - Loss: -0.392\n",
      "Iter 72/100 - Loss: -0.430\n",
      "Iter 73/100 - Loss: -0.472\n",
      "Iter 74/100 - Loss: -0.518\n",
      "Iter 75/100 - Loss: -0.567\n",
      "Iter 76/100 - Loss: -0.616\n",
      "Iter 77/100 - Loss: -0.662\n",
      "Iter 78/100 - Loss: -0.703\n",
      "Iter 79/100 - Loss: -0.740\n",
      "Iter 80/100 - Loss: -0.775\n",
      "Iter 81/100 - Loss: -0.816\n",
      "Iter 82/100 - Loss: -0.860\n",
      "Iter 83/100 - Loss: -0.902\n",
      "Iter 84/100 - Loss: -0.940\n",
      "Iter 85/100 - Loss: -0.975\n",
      "Iter 86/100 - Loss: -1.008\n",
      "Iter 87/100 - Loss: -1.042\n",
      "Iter 88/100 - Loss: -1.077\n",
      "Iter 89/100 - Loss: -1.112\n",
      "Iter 90/100 - Loss: -1.145\n",
      "Iter 91/100 - Loss: -1.173\n",
      "Iter 92/100 - Loss: -1.199\n",
      "Iter 93/100 - Loss: -1.226\n",
      "Iter 94/100 - Loss: -1.254\n",
      "Iter 95/100 - Loss: -1.279\n",
      "Iter 96/100 - Loss: -1.302\n",
      "Iter 97/100 - Loss: -1.321\n",
      "Iter 98/100 - Loss: -1.341\n",
      "Iter 99/100 - Loss: -1.361\n",
      "Iter 100/100 - Loss: -1.379\n"
     ]
    }
   ],
   "source": [
    "# this is for running the notebook in our testing framework\n",
    "import os\n",
    "smoke_test = ('CI' in os.environ)\n",
    "training_iter = 2 if smoke_test else 100\n",
    "\n",
    "# Find optimal model hyperparameters\n",
    "model.train()\n",
    "likelihood.train()\n",
    "\n",
    "# Use the adam optimizer\n",
    "optimizer = torch.optim.Adam(model.parameters(), lr=0.1)\n",
    "\n",
    "# \"Loss\" for GPs - the marginal log likelihood\n",
    "mll = gpytorch.mlls.ExactMarginalLogLikelihood(likelihood, model)\n",
    "\n",
    "for i in range(training_iter):\n",
    "    optimizer.zero_grad()\n",
    "    output = model(train_x)\n",
    "    loss = -mll(output, train_y)\n",
    "    loss.backward()\n",
    "    print('Iter %d/%d - Loss: %.3f' % (i + 1, training_iter, loss.item()))\n",
    "    optimizer.step()"
   ]
  },
  {
   "cell_type": "markdown",
   "metadata": {},
   "source": [
    "Now that we've learned good hyperparameters, it's time to use our model to make predictions. The spectral mixture kernel is especially good at extrapolation. To that end, we'll see how well the model extrapolates past the interval `[0, 1]`.\n",
    "\n",
    "In the next cell, we plot the mean and confidence region of the Gaussian process model. The `confidence_region` method is a helper method that returns 2 standard deviations above and below the mean."
   ]
  },
  {
   "cell_type": "code",
   "execution_count": 7,
   "metadata": {
    "scrolled": false
   },
   "outputs": [
    {
     "data": {
      "image/png": "[encoded data removed]",
      "text/plain": [
       "<Figure size 288x216 with 1 Axes>"
      ]
     },
     "metadata": {
      "needs_background": "light"
     },
     "output_type": "display_data"
    }
   ],
   "source": [
    "# Test points every 0.1 between 0 and 5\n",
    "test_x = torch.linspace(0, 5, 51)\n",
    "\n",
    "# Get into evaluation (predictive posterior) mode\n",
    "model.eval()\n",
    "likelihood.eval()\n",
    "\n",
    "# The gpytorch.settings.fast_pred_var flag activates LOVE (for fast variances)\n",
    "# See https://arxiv.org/abs/1803.06058\n",
    "with torch.no_grad(), gpytorch.settings.fast_pred_var():\n",
    "    # Make predictions\n",
    "    observed_pred = likelihood(model(test_x))\n",
    "\n",
    "    # Initialize plot\n",
    "    f, ax = plt.subplots(1, 1, figsize=(4, 3))\n",
    "\n",
    "    # Get upper and lower confidence bounds\n",
    "    lower, upper = observed_pred.confidence_region()\n",
    "    # Plot training data as black stars\n",
    "    ax.plot(train_x.numpy(), train_y.numpy(), 'k*')\n",
    "    # Plot predictive means as blue line\n",
    "    ax.plot(test_x.numpy(), observed_pred.mean.numpy(), 'b')\n",
    "    # Shade between the lower and upper confidence bounds\n",
    "    ax.fill_between(test_x.numpy(), lower.numpy(), upper.numpy(), alpha=0.5)\n",
    "    ax.set_ylim([-3, 3])\n",
    "    ax.legend(['Observed Data', 'Mean', 'Confidence'])"
   ]
  }
 ],
 "metadata": {
  "anaconda-cloud": {},
  "kernelspec": {
   "display_name": "Python 3",
   "language": "python",
   "name": "python3"
  },
  "language_info": {
   "codemirror_mode": {
    "name": "ipython",
    "version": 3
   },
   "file_extension": ".py",
   "mimetype": "text/x-python",
   "name": "python",
   "nbconvert_exporter": "python",
   "pygments_lexer": "ipython3",
   "version": "3.8.3"
  }
 },
 "nbformat": 4,
 "nbformat_minor": 1
}
