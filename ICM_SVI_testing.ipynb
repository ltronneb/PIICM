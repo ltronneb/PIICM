{
 "cells": [
  {
   "cell_type": "markdown",
   "id": "40e71a2d",
   "metadata": {},
   "source": [
    "# Intrinsic Model of Coregionalization -- Stochastic Variational Inference\n"
   ]
  },
  {
   "cell_type": "markdown",
   "id": "31424a27",
   "metadata": {},
   "source": [
    "Point of this notebook is to implement a stochastic variational inference version of the ICM. This follows directly from Titsias 2009 formulation and the SVI version from Hensman 2015\n",
    "\n",
    "## The ICM\n",
    "\n",
    "The ICM model is a multi-output GP with a specific covariance structure. It can be constructed from a *Linear model of coregionalization (LMC)* by assuming that the j-th output $f_j(x)$ is a linear combination of $p$ latent functions $\\{u_k(x)\\}_{k=1}^r$ like so:\n",
    "\n",
    "$$\n",
    "f_j(x) = a_{j1} u_1(x) + a_{j2}u_2(x) + \\cdots a_{jr}u_r(x), \n",
    "$$\n",
    "where $\\{a_{jk}\\}_{k=1}^r$ are parameters to be learned. The latent functions are given independent GP priors, $u_k \\sim \\mathcal{GP}(0,\\kappa_k(\\cdot,\\cdot))$, and the ICM corresponds to the special case where all the latents have the same kernel function, $\\kappa_k = \\kappa \\ \\forall k$.\n",
    "\n",
    "Assuming we have $m$ distinct outputs, the model can be written on matrix form as \n",
    "\n",
    "\n",
    "\\begin{align}\n",
    "\\begin{bmatrix}\n",
    "f_1(x) \\\\\n",
    "\\vdots \\\\\n",
    "f_m(x) \n",
    "\\end{bmatrix} &=\n",
    "\\begin{bmatrix}\n",
    "a_{11} & a_{12} & \\cdots & a_{1r} \\\\\n",
    "a_{21} & a_{22} & \\cdots & a_{2r} \\\\\n",
    "\\vdots & \\vdots & \\ddots & \\vdots \\\\\n",
    "a_{m1} & a_{m2} & \\cdots & a_{mr} \\\\\n",
    "\\end{bmatrix}\n",
    "\\begin{bmatrix}\n",
    "u_1(x) \\\\\n",
    "u_2(x) \\\\\n",
    "\\vdots \\\\\n",
    "u_r(x) \\\\\n",
    "\\end{bmatrix}\n",
    "\\end{align}\n",
    "or more concisely as:\n",
    "\n",
    "\\begin{align}\n",
    "\\mathbf{f}(x) = A \\mathbf{u}(x).\n",
    "\\end{align}\n",
    "\n",
    "This structure ensures that the covariance between two outputs can be written as\n",
    "\n",
    "\\begin{align}\n",
    "\\text{Cov}[f_i(x),f_j(x')] &= \\text{Cov}\\left[\\sum_{k=1}^r a_{ik}u_k(x),\\sum_{k=1}^r a_{jk}u_k(x)\\right] \\\\\n",
    "&= \\sum_{k=1}^r a_{ik}a_{jk}\\text{Cov}[u_k(x),u_k(x')] \\\\\n",
    "&= \\sum_{k=1}^r a_{ik}a_{jk}\\kappa(x,x').\n",
    "\\end{align}\n",
    "\n",
    "Where $\\sum_{k=1}^r a_{ik}a_{jk}$ is simply the dot-product between the $i$-th and $j$-th row of the matrix $A$. Thus taking the covariance over the entire vector $\\mathbf{f}(x)$ we obtain:\n",
    "\n",
    "\\begin{align}\n",
    "\\text{Cov}[\\mathbf{f}(x),\\mathbf{f}(x')] &= AA^T\\kappa(x,x') \\\\\n",
    "&= B\\kappa(x,x'),\n",
    "\\end{align}\n",
    "where the matrix $B=AA^T$ is called the *coregionalization* matrix. If furthermore each output $f_j(x)$ has been observed on the same set of inputs $X=\\{x_1,\\ldots,x_n\\}, then the covariance can be written as \n",
    "\n",
    "\\begin{align}\n",
    "\\text{Cov}[\\mathbf{f}(X),\\mathbf{f}(X')] &= B \\otimes K_{ff},\n",
    "\\end{align}\n",
    "where $K_{ff}=\\kappa(X,X)$. This structure yields significant computational speedups for the ICM.\n",
    "\n",
    "Finally, we usually assume our observations are noisy evaluations of the latent function, i.e. $y_{ij} = f_j(x_i) + \\epsilon_{ij}$, with usually $\\epsilon_{ij}\\sim N(0,\\sigma^2)$.\n",
    "\n",
    "\n",
    "## Variational inference in the ICM\n",
    "\n",
    "Variational inference follows the standard Titsias 2009 approach by choosing a set of inducing point locations $Z=\\{z_1,\\ldots,z_q\\}$ and modifying the model structure by a set of inducing variables $\\mathbf{u}$ usually taken as the function $f$ evaluated at each location. For multi-output GPs, considering inducing points as observations of each output $f_j$ will lead to a lower bound that is computationally quite difficult to evaluate. It is common to instead take as inducing variables the set of evaluations of the latent functions, i.e. $\\mathbf{u}=\\{u_k(Z)\\}_{k=1}^r$. This will lead to a computationally quite cheap lower bound due to the independence assumption between each latent function. Furthermore, since all functions have the same length scale, we use the same set of inducing point locations for each latent function.\n",
    "\n",
    "Starting from the usual model we modify it with inducing variables: $p(\\mathbf{y},\\mathbf{f},\\mathbf{u})=p(\\mathbf{y}\\vert \\mathbf{f})p(\\mathbf{f}\\vert\\mathbf{u})p(\\mathbf{u})$, which fundamentally doesn't change the model as if we were to integrate out the inducing variables, we would be back to the original model.\n",
    "\n",
    "The distribution for $\\mathbf{y}\\vert\\mathbf{f}$ and $\\mathbf{u}$ are easily available, \n",
    "\\begin{align}\n",
    "p(\\mathbf{y} \\vert \\mathbf{f}) &= \\mathcal{N}(\\mathbf{f},\\sigma^2I) & \\text{likelihood} \\\\\n",
    "p(\\mathbf{u}) &= \\mathcal{N}(0,I\\otimes K_{uu}) & \\text{prior on inducing variables},\n",
    "\\end{align}\n",
    "but the conditional prior on $\\mathbf{f}\\vert\\mathbf{u}$ requires a little more work. Starting from the joint distribution\n",
    "\n",
    "$$\n",
    "p(\\mathbf{f},\\mathbf{u}) = \\mathcal{N}\\left(\\begin{bmatrix}0\\\\0\\end{bmatrix},\\begin{bmatrix}B\\otimes K_{ff} & A \\otimes K_{fu} \\\\ A^T\\otimes K_{uf} & I \\otimes K_{uu}\\end{bmatrix}\\right),\n",
    "$$\n",
    "one can with a little algebra show that \n",
    "$$\n",
    "p(\\mathbf{f} \\vert\\mathbf{u}) = \\mathcal{N}\\left((A\\otimes(K_{fu}K_{uu}^{-1})\\mathbf{u},B\\otimes(K_{ff}-K_{fu}K_{uu}^{-1}K_{uf}))\\right).\n",
    "$$\n",
    "\n",
    "Which completes the specification of the joint model over $p(\\mathbf{y},\\mathbf{f},\\mathbf{u})$.\n",
    "\n",
    "We wish to learn parameters in this model by maximizing a lower bound over the marginal likelihood. Introducing the variational distribution $\\phi(\\mathbf{u})$ and applying Jensen's inequality we can write the log marginal likelihood as\n",
    "\\begin{align}\n",
    "\\log p(\\mathbf{y}) &= \\log \\int p(\\mathbf{y}\\vert\\mathbf{f})p(\\mathbf{f}\\vert\\mathbf{u})p(\\mathbf{u})\\text{d}\\mathbf{f}\\text{d}\\mathbf{u} \\\\\n",
    "&=\\log \\int p(\\mathbf{f}\\vert\\mathbf{u})\\phi(\\mathbf{u})\\frac{p(\\mathbf{y}\\vert\\mathbf{f})p(\\mathbf{u})}{\\phi(\\mathbf{u})}\\text{d}\\mathbf{f}\\text{d}\\mathbf{u} \\\\ \n",
    "&\\geq \\int p(\\mathbf{f}\\vert\\mathbf{u})\\phi(\\mathbf{u})\\log\\frac{p(\\mathbf{y}\\vert\\mathbf{f})p(\\mathbf{u})}{\\phi(\\mathbf{u})}\\text{d}\\mathbf{f}\\text{d}\\mathbf{u} \\\\\n",
    "&=\\int \\phi(\\mathbf{u})\\left[\\int p(\\mathbf{f}\\vert\\mathbf{u})\\log p(\\mathbf{y}\\vert \\mathbf{f})\\text{d}\\mathbf{f}+\\log\\frac{p(\\mathbf{u})}{\\phi(\\mathbf{u})}\\right]\\text{d}\\mathbf{u}.\n",
    "\\end{align}\n",
    "\n",
    "The interior integral wrt $\\mathbf{f}$ can be written as\n",
    "\\begin{align}\n",
    "\\log G(\\mathbf{u},\\mathbf{y})=\\int p(\\mathbf{f}\\vert\\mathbf{u})\\log p(\\mathbf{y}\\vert \\mathbf{f})\\text{d}\\mathbf{f} = \\log \\mathcal{N}(\\mathbf{y}\\vert \\boldsymbol{\\alpha},\\sigma^2I) - \\frac{1}{2\\sigma^2}\\text{Tr}(B)\\text{Tr}(K_{ff}-K_{fu}K_{uu}^{-1}K_{uf}),\n",
    "\\end{align}\n",
    "where $\\boldsymbol{\\alpha}=(A\\otimes (K_{fu}K_{uu}^{-1}))\\mathbf{u}$.\n",
    "\n",
    "\n",
    "Plugging this back into the bound and reversing Jensen's inequality we get \n",
    "\\begin{align}\n",
    "\\log p(\\mathbf{y}) &\\geq \\int \\phi(\\mathbf{u})\\log \\frac{\\mathcal{N}(\\mathbf{y}\\vert \\boldsymbol{\\alpha},\\sigma^2I)p(\\mathbf{u})}{\\phi(\\mathbf{u})}\\text{d}\\mathbf{u}-\\frac{1}{2\\sigma^2}\\text{Tr}(B)\\text{Tr}(K_{ff}-K_{fu}K_{uu}^{-1}K_{uf}) \\\\\n",
    "&\\leq \\log \\int \\mathcal{N}(\\mathbf{y}\\vert \\boldsymbol{\\alpha},\\sigma^2I)p(\\mathbf{u})-\\frac{1}{2\\sigma^2}\\text{Tr}(B)\\text{Tr}(K_{ff}-K_{fu}K_{uu}^{-1}K_{uf}).\n",
    "\\end{align}\n",
    "\n",
    "This bound is reached when $\\phi(\\mathbf{u})\\propto  \\mathcal{N}(\\mathbf{y}\\vert \\boldsymbol{\\alpha},\\sigma^2I)p(\\mathbf{u})$\n",
    "\n",
    "\n",
    "\n",
    "\n",
    "\n",
    "\n"
   ]
  },
  {
   "cell_type": "markdown",
   "id": "db8dea2c",
   "metadata": {},
   "source": [
    "Inspecting $\\mathcal{N}(\\mathbf{y}\\vert \\boldsymbol{\\alpha},\\sigma^2I)p(\\mathbf{u})$ one can with a great deal of algebra write it as:\n",
    "\n",
    "\\begin{align}\n",
    "\\mathcal{N}(\\mathbf{y}\\vert \\boldsymbol{\\alpha},\\sigma^2I)p(\\mathbf{u})=\n",
    "\\mathcal{N}(\\mathbf{u}\\vert C^{-1}d,C^{-1})\\mathcal{N}(\\mathbf{y}\\vert 0,B\\otimes K_{fu}K_{uu}^{-1}K_{uf}+\\sigma^2I),\n",
    "\\end{align}\n",
    "where $C=I\\otimes K_{uu}^{-1}+\\sigma^{-2}(A^T\\otimes K_{uu}^{-1}K_{uf}(A\\otimes K_{fu}K_{uu}^{-1}))$, and $d=\\sigma^{-2}(A^T\\otimes K_{uu}^{-1}K_{uf})\\mathbf{y}$.\n",
    "\n",
    "Integrating over $\\mathbf{u}$ in the bound yields now:\n",
    "\n",
    "\\begin{align}\n",
    "\\log p(\\mathbf{y}) \\geq \\mathcal{N}(\\mathbf{y}\\vert 0,B\\otimes K_{fu}K_{uu}^{-1}K_{uf}+\\sigma^2I) -\\frac{1}{2\\sigma^2}\\text{Tr}(B)\\text{Tr}(K_{ff}-K_{fu}K_{uu}^{-1}K_{uf})\n",
    "\\end{align}\n",
    "\n",
    "Computing the bound itself requires the following quantities\n",
    "\n",
    "\\begin{gather}\n",
    "\\text{(Quadratic form)} & \\mathbf{y}^T\\left[(B\\otimes K_{fu}K_{uu}^{-1}K_{uf})+\\sigma^2I\\right]^{-1}\\mathbf{y} = \\mathbf{y}^T\\left[\\sigma^{-2}I-\\sigma^{-2}D^T(I+DD^T)^{-1}D\\right]\\mathbf{y} \\\\\n",
    "\\text{(Determinant)} & \\vert (B\\otimes K_{fu}K_{uu}^{-1}K_{uf})+\\sigma^2I \\vert = \\vert I + DD^T) \\vert \\vert \\sigma^2I \\vert ,\n",
    "\\end{gather}\n",
    "\n",
    "where $D=A^T\\otimes L^{-1}K_{uf}\\sigma^{-1}$, $DD^T=A^TA \\otimes L^{-1}K_{uf}K_{fu}L^{-T}\\sigma^{-2}$ and $L$ from $K_{uu}=LL^T$. Both of these can be done via the eigendecomposition of $DD^T$.\n",
    "\n",
    "Note that the complexity here isn't terrible. We need to get hold of and invert L (which is $q \\times q$) and we need to eigendecomp $DD^T$ but this is on the form of a Kronecker product so we simply eigen-decomp $A^TA$ and $L^{-1}K_{uf}K_{fu}L^{-T}\\sigma^{-2}$ which are $r \\times r$ and $q \\times q$ respectively. \n",
    "\n",
    "Predicting for some new input now is also straight forward and has nice formulas.\n",
    "\n",
    "However, while this would all probably work out well, it does rely on having every observed every input on every output. And while it might be possible to get around this now by the same techniques we used for PIICM, it's hard to tell what we are really gaining then.\n",
    "\n",
    "Instead we should pursue **Stochastic Variational inference (SVI)**, following Hensman 2015 -- which is also **the** way `gpytorch` implements basic variational inference for GPs. (The Titsias bound of using the optimal variational distribution is still available, but via a bit of a hack with adding loss in the marginal likelihood calculation.)"
   ]
  },
  {
   "cell_type": "markdown",
   "id": "9c479846",
   "metadata": {},
   "source": [
    "## Stochastic Variational inference for the ICM"
   ]
  },
  {
   "cell_type": "markdown",
   "id": "c9800aa0",
   "metadata": {},
   "source": [
    "Instead of finding the optimal variational distribution $\\phi^*(\\mathbf{u})$ and margincalising them out, stochastic variational inference instead explicitly keeps them in the model as global parameters. We start in the same way by modifying the original model by $p(\\mathbf{y},\\mathbf{f},\\mathbf{u})=p(\\mathbf{y}\\vert\\mathbf{f})p(\\mathbf{f}\\vert\\mathbf{u})p(\\mathbf{u})$, then we introduce a variational distribution $\\phi(\\mathbf{u})=\\mathcal{N}(\\mathbf{m},S)$ and bound the marginal likelihood\n",
    "\n",
    "\\begin{align}\n",
    "\\log p(\\mathbf{y}) &= \\log \\int p(\\mathbf{y}\\vert\\mathbf{f})p(\\mathbf{f}\\vert\\mathbf{u})p(\\mathbf{u})\\text{d}\\mathbf{f}\\text{d}\\mathbf{u} \\\\\n",
    "&=\\log \\int p(\\mathbf{f}\\vert\\mathbf{u})\\phi(\\mathbf{u})\\frac{p(\\mathbf{y}\\vert\\mathbf{f})p(\\mathbf{u})}{\\phi(\\mathbf{u})}\\text{d}\\mathbf{f}\\text{d}\\mathbf{u} \\\\ \n",
    "&\\geq \\int p(\\mathbf{f}\\vert\\mathbf{u})\\phi(\\mathbf{u})\\log\\frac{p(\\mathbf{y}\\vert\\mathbf{f})p(\\mathbf{u})}{\\phi(\\mathbf{u})}\\text{d}\\mathbf{f}\\text{d}\\mathbf{u} \\\\\n",
    "&=\\int \\phi(\\mathbf{u})\\left[\\int p(\\mathbf{f}\\vert\\mathbf{u})\\log p(\\mathbf{y}\\vert \\mathbf{f})\\text{d}\\mathbf{f}+\\log\\frac{p(\\mathbf{u})}{\\phi(\\mathbf{u})}\\right]\\text{d}\\mathbf{u} \\\\\n",
    "&= \\int \\phi(\\mathbf{u})\\log \\frac{\\mathcal{N}(\\mathbf{y}\\vert \\boldsymbol{\\alpha},\\sigma^2I)p(\\mathbf{u})}{\\phi(\\mathbf{u})}\\text{d}\\mathbf{u}-\\frac{1}{2\\sigma^2}\\text{Tr}(B)\\text{Tr}(K_{ff}-K_{fu}K_{uu}^{-1}K_{uf}) \\\\\n",
    "&= \\int \\phi(\\mathbf{u})\\log \\mathcal{N}(\\mathbf{y}\\vert \\boldsymbol{\\alpha},\\sigma^2I)\\text{d}\\mathbf{u}+ \\int \\phi(\\mathbf{u})\\log\\frac{p(\\mathbf{u})}{\\phi(\\mathbf{u})}\\text{d}\\mathbf{u}-\\frac{1}{2\\sigma^2}\\text{Tr}(B)\\text{Tr}(K_{ff}-K_{fu}K_{uu}^{-1}K_{uf}) \\\\\n",
    "&= \\int \\phi(\\mathbf{u})\\log \\mathcal{N}(\\mathbf{y}\\vert \\boldsymbol{\\alpha},\\sigma^2I)\\text{d}\\mathbf{u}- \\text{KL}(\\phi(\\mathbf{u}) \\Vert p(\\mathbf{u}))-\\frac{1}{2\\sigma^2}\\text{Tr}(B)\\text{Tr}(K_{ff}-K_{fu}K_{uu}^{-1}K_{uf})\n",
    "\\end{align}\n",
    "where again $\\boldsymbol{\\alpha}=(A\\otimes (K_{fu}K_{uu}^{-1}))\\mathbf{u}$.\n",
    "\n",
    "<font color='red'>I need to look at $\\int p(\\mathbf{f}\\vert\\mathbf{u})\\log p(\\mathbf{y}\\vert \\mathbf{f})\\text{d}\\mathbf{f}$ again. Particularly the case where I don't have every observed $y_{ij}$ at every $f_{ij}$! It might just be ignoring the diagonal terms of the trace in this case, all else equal. </font> \n",
    "\n",
    "<font color='green'>Yes, it simply amounts to ignoring diagonal terms where we don't have observations. For this reason, the trace term needs to go inside the summation over the observations, $y_i$. We can further index this by outputs and sum first over the $m$ outputs, and then over $n$ observations within each output. Furthermore, we can make $n$ depend on the number of observations in that specific output. </font> \n",
    "\n",
    "Now, this bound is seperable in the observations $y_{ij}$ and we can write\n",
    "\n",
    "\\begin{align}\n",
    "&\\int \\phi(\\mathbf{u})\\log \\mathcal{N}(\\mathbf{y}\\vert \\boldsymbol{\\alpha},\\sigma^2I)\\text{d}\\mathbf{u} \\\\\n",
    "=& \\sum_{j=1}^m\\sum_{i=1}^n \\log \\mathcal{N}(y_{ij}\\vert \\tilde{\\boldsymbol{\\alpha}}_{ij}\\mathbf{m}, \\sigma^2) - \\frac{1}{2\\sigma^2}\\tilde{\\boldsymbol{\\alpha}}_{ij}S\\tilde{\\boldsymbol{\\alpha}}_{ij}^T,\n",
    "\\end{align}\n",
    "where $\\tilde{\\boldsymbol{\\alpha}}_{ij}=(A_{j\\cdot}\\otimes K_{fu,i\\cdot}K_{uu}^{-1})$, $A_{j\\cdot}$ denotes the $j$-th row of $A$ and $K_{fu,i\\cdot}$ the $i$-th row of $K_{fu}$.\n",
    "\n",
    "Putting this all together now, the bound becomes:\n",
    "\n",
    "\\begin{align}\n",
    "\\log p(\\mathbf{y}) \\geq \\sum_{j=1}^m\\sum_{i=1}^n \\left\\{ \\log \\mathcal{N}(y_{ij}\\vert \\tilde{\\boldsymbol{\\alpha}}_{ij}\\mathbf{m}, \\sigma^2) - \\frac{1}{2\\sigma^2}\\tilde{\\boldsymbol{\\alpha}}_{ij}S\\tilde{\\boldsymbol{\\alpha}}_{ij}^T - \\frac{1}{2\\sigma^2}B_{jj}[K_{ff}-K_{fu}K_{uu}^{-1}K_{uf}]_{ii}\\right\\}- \\text{KL}(\\phi(\\mathbf{u}) \\Vert p(\\mathbf{u})).\n",
    "\\end{align}\n",
    "\n",
    "Finally, we can make some speedups as well regarding $\\phi(\\mathbf{u})$ and assume e.g. independence between latent functions, i.e. $\\phi(\\mathbf{u})=\\prod_{k=1}^r\\phi_k(\\mathbf{u}_k)$, where each $\\phi_k(\\mathbf{u}_k)=\\mathcal{N}(\\mathbf{u}_k\\vert \\mathbf{m_K},S_K)$"
   ]
  },
  {
   "cell_type": "markdown",
   "id": "afb26534",
   "metadata": {},
   "source": [
    "\n",
    "## Modifying the coregionalization matrix\n",
    "\n",
    "\n",
    "The structure of the coregionalization matrix as a general PSD matrix $AA^T$ invites placing e.g. a kernel function directly over the outputs. But training the variational models need an explicit representation of the matrix A, the entries of which is usually learned during training. One way to combine these two things is to use the eigen decomposition of the output kernel as parameters in the matrix A.\n",
    "\n",
    "Specifically, let $K_O$ denote the $m\\times m$ covariance matrix corresponding to some kernel function over the outputs. Then, taking the eigen decomposition one can write $K_O = UDU^T=(UD^{1/2})(UD^{1/2})^T$ where $U$ is an $m\\times m$ orthonormal matrix of eigenvectors, and $D$ a $m \\times m$ diagonal matrix of eigenvalues. Setting $A=(UD^{1/2})$ yields the desired structure, and parameters $a_{ij}$ can be learned as functions of the kernel hyperparameters by differentiating through the eigen decomposition.\n",
    "\n",
    "This requires $m$ latent functions, but a low-rank version with $r<m$ latent functions can easily be constructed by truncating the eigen decomposition. \n",
    "\n",
    "For prediction purposes, when we wish to predict at a new output, we do the usual thing of calculating the cross-covariance $k_*$ with entries $k(t_*,t_i)$ for $i=1,\\ldots,m$, where $t_i$ are covariates over the outputs. Then we find the projection of $k_*$ onto the columns of $A$, $a_* \\equiv\\text{proj}_A(b)=(A^TA)^{-1}A^Tk_*$, and $a_*$ is used as LMC parameters for this output. Essentially it is the point in the space spanned by $A$ closest to $k_*$.\n"
   ]
  },
  {
   "cell_type": "markdown",
   "id": "820cb418",
   "metadata": {},
   "source": [
    "## Implementation"
   ]
  },
  {
   "cell_type": "markdown",
   "id": "32b236fc",
   "metadata": {},
   "source": [
    "The natural starting place for implementing this model is the variational LMC-implementation already in place in `gpytorch`. By simply demaning that each latent function has the same length scale, we will have an ICM model in place. Furthermore, we should look at modifying the parameters $A$ so that we can define them implicitly via the eigen-decomposition from a covariance function over the outputs. Should also note that possibly, the current implementation of the LMC is not the most optimal when using it as an ICM -- it might be doing more matrix inverses than strictly necessary for example."
   ]
  },
  {
   "cell_type": "markdown",
   "id": "7b386f81",
   "metadata": {},
   "source": [
    "### Simulate some data"
   ]
  },
  {
   "cell_type": "markdown",
   "id": "c899d13e",
   "metadata": {},
   "source": [
    "Before moving on to an implementation, it makes sense to try and simulate some data first."
   ]
  },
  {
   "cell_type": "code",
   "execution_count": null,
   "id": "a3a13620",
   "metadata": {},
   "outputs": [],
   "source": [
    "# Some imports\n",
    "%matplotlib inline\n",
    "from matplotlib import pyplot as plt\n",
    "import torch\n",
    "import gpytorch\n",
    "import numpy as np"
   ]
  },
  {
   "cell_type": "code",
   "execution_count": null,
   "id": "d2316f30",
   "metadata": {},
   "outputs": [],
   "source": [
    "r = 10 # Number of latents\n",
    "n = 2000 # Number of observations per output\n",
    "# Easiest way to sample from a GP using gpytorch?\n",
    "x = torch.linspace(0,1,n)\n",
    "u = torch.zeros(x.size(dim=0),r)\n",
    "\n",
    "\n",
    "mean = gpytorch.means.ZeroMean()\n",
    "kernel = gpytorch.kernels.RBFKernel()\n",
    "kernel.lengthscale = 0.2\n",
    "m = mean(x)\n",
    "K = kernel(x)\n",
    "for i in range(r):\n",
    "    GP = gpytorch.distributions.MultivariateNormal(m,K)\n",
    "    u[:,i] = GP.rsample().detach()"
   ]
  },
  {
   "cell_type": "code",
   "execution_count": null,
   "id": "1677ed86",
   "metadata": {},
   "outputs": [],
   "source": [
    "plt.plot(x,u[:,0])\n",
    "plt.plot(x,u[:,1])\n",
    "plt.plot(x,u[:,2])\n",
    "plt.plot(x,u[:,3])"
   ]
  },
  {
   "cell_type": "code",
   "execution_count": null,
   "id": "cc96b966",
   "metadata": {},
   "outputs": [],
   "source": [
    "# Now creating outputs as linear combinations of these latent functions\n",
    "m = 50 # num_outputs\n",
    "A = torch.randn(m,r)\n",
    "f = A.matmul(u.t()).t()\n",
    "for i in range(m):\n",
    "    plt.plot(x,f[:,i])"
   ]
  },
  {
   "cell_type": "code",
   "execution_count": null,
   "id": "ddd0398d",
   "metadata": {},
   "outputs": [],
   "source": [
    "# Now generate some corresponding data\n",
    "sigma = 0.5\n",
    "y = f + sigma*torch.randn(f.size())"
   ]
  },
  {
   "cell_type": "code",
   "execution_count": null,
   "id": "7c103f33",
   "metadata": {},
   "outputs": [],
   "source": [
    "for i in range(m):\n",
    "    plt.plot(x,y[:,i],\".\")"
   ]
  },
  {
   "cell_type": "code",
   "execution_count": null,
   "id": "53e3a936",
   "metadata": {
    "scrolled": true
   },
   "outputs": [],
   "source": [
    "# Now going to get it ready for minibatching\n",
    "from torch.utils.data import TensorDataset, DataLoader\n",
    "\n",
    "# Get everything into long format\n",
    "y_long = y.t().reshape(-1)\n",
    "x_long = x.repeat(m)\n",
    "task_indices = torch.arange(0,m).unsqueeze(1).repeat(1,n).reshape(-1).long()\n",
    "\n",
    "# For first task, will remove some central observations \n",
    "#y_long[1000:2000] = float('nan')\n",
    "#x_long = x_long[~y_long.isnan()]\n",
    "#task_indices = task_indices[~y_long.isnan()]\n",
    "#y_long = y_long[~y_long.isnan()]\n",
    "\n",
    "train_dataset = TensorDataset(x_long, y_long,task_indices)\n",
    "train_loader = DataLoader(train_dataset, batch_size=500, shuffle=True)\n",
    "\n",
    "# We also make a version for test here\n",
    "test_x = torch.linspace(0, 1, 51).repeat(m)\n",
    "test_indices = torch.arange(0,m).unsqueeze(1).repeat(1,51).reshape(-1).long()"
   ]
  },
  {
   "cell_type": "markdown",
   "id": "529ad414",
   "metadata": {},
   "source": [
    "So now we have generated data from $m=10$ outputs $f_{ij}$ at $n=100$ inputs using $r=4$ latent functions. Time to set up the LMC "
   ]
  },
  {
   "cell_type": "code",
   "execution_count": null,
   "id": "5dccdef1",
   "metadata": {},
   "outputs": [],
   "source": [
    "class LMC(gpytorch.models.ApproximateGP):\n",
    "    def __init__(self):\n",
    "        # Different set of inducing points for each latent function\n",
    "        inducing_points = torch.rand(r,30,1)\n",
    "        # We have to mark the CholeskyVariationalDistribution as batch\n",
    "        # so that we learn a variational distribution for each latent\n",
    "        # note that this doesn't assume the same inducing locations for each latent\n",
    "        # which would speedup the ICM, but isn't technically needed.\n",
    "        variational_distribution = gpytorch.variational.CholeskyVariationalDistribution(\n",
    "            inducing_points.size(-2), batch_shape=torch.Size([r])\n",
    "        )\n",
    "        \n",
    "        # We have to wrap the VariationalStrategy in a LMCVariationalStrategy\n",
    "        # so that the output will be a MultitaskMultivariateNormal rather than a batch output\n",
    "        variational_strategy = gpytorch.variational.LMCVariationalStrategy(\n",
    "            gpytorch.variational.VariationalStrategy(\n",
    "                self, inducing_points, variational_distribution, learn_inducing_locations=True\n",
    "            ),\n",
    "            num_tasks=m,\n",
    "            num_latents=r,\n",
    "            latent_dim=-1\n",
    "        )\n",
    "        \n",
    "        super().__init__(variational_strategy)\n",
    "        \n",
    "        # The mean and covariance modules should be marked as batch\n",
    "        # so we learn a different set of hyperparameters\n",
    "        # For the ICM model, we do not set them as batch.\n",
    "        self.mean_module = gpytorch.means.ZeroMean()\n",
    "        self.covar_module = gpytorch.kernels.RBFKernel()\n",
    "        \n",
    "    def forward(self, x):\n",
    "        # The forward function should be written as if we were dealing with each output\n",
    "        # dimension in batch\n",
    "        mean_x = self.mean_module(x)\n",
    "        covar_x = self.covar_module(x)\n",
    "        return gpytorch.distributions.MultivariateNormal(mean_x, covar_x)\n",
    "\n",
    "    \n",
    "    \n",
    "\n",
    "model = LMC()\n",
    "#likelihood = gpytorch.likelihoods.MultitaskGaussianLikelihood(num_tasks=m)\n",
    "likelihood = gpytorch.likelihoods.GaussianLikelihood()"
   ]
  },
  {
   "cell_type": "markdown",
   "id": "d6c29a58",
   "metadata": {},
   "source": [
    "And training the LMC"
   ]
  },
  {
   "cell_type": "code",
   "execution_count": null,
   "id": "d2237b1c",
   "metadata": {},
   "outputs": [],
   "source": [
    "# this is for running the notebook in our testing framework\n",
    "import os\n",
    "import tqdm.notebook\n",
    "num_epochs = 4\n",
    "\n",
    "\n",
    "model.train()\n",
    "likelihood.train()\n",
    "\n",
    "optimizer = torch.optim.Adam([\n",
    "    {'params': model.parameters()},\n",
    "    {'params': likelihood.parameters()},\n",
    "], lr=0.01)\n",
    "\n",
    "# Uncomment to keep the LMC coefficients fixed at true values\n",
    "#model.variational_strategy.lmc_coefficients = torch.nn.Parameter(A.t())\n",
    "#optimizer = torch.optim.Adam([\n",
    "#    {'params': list(set(model.parameters()) - {model.variational_strategy.lmc_coefficients, })},\n",
    "#    {'params': likelihood.parameters()},\n",
    "#], lr=0.01)\n",
    "\n",
    "\n",
    "# Our loss object. We're using the VariationalELBO, which essentially just computes the ELBO\n",
    "#mll = gpytorch.mlls.VariationalELBO(likelihood, model, num_data=y.size(0))\n",
    "mll = gpytorch.mlls.VariationalELBO(likelihood, model, num_data=y_long.size(0))\n",
    "\n",
    "# We use more CG iterations here because the preconditioner introduced in the NeurIPS paper seems to be less\n",
    "# effective for VI.\n",
    "epochs_iter = tqdm.notebook.tqdm(range(num_epochs), desc=\"Epoch\")\n",
    "for i in epochs_iter:\n",
    "    # Within each iteration, we will go over each minibatch of data\n",
    "    minibatch_iter = tqdm.notebook.tqdm(train_loader, desc=\"Minibatch\", leave=False)\n",
    "    for x_batch, y_batch, task_batch in minibatch_iter:\n",
    "        optimizer.zero_grad()\n",
    "        output = model(x_batch,task_indices=task_batch)\n",
    "        loss = -mll(output, y_batch)\n",
    "        minibatch_iter.set_postfix(loss=loss.item())\n",
    "        loss.backward()\n",
    "        optimizer.step()\n",
    "        \n",
    "    #optimizer.zero_grad()\n",
    "    #output = model(x)\n",
    "    #loss = -mll(output, y)\n",
    "    #epochs_iter.set_postfix(loss=loss.item())\n",
    "    #loss.backward()\n",
    "    #optimizer.step()"
   ]
  },
  {
   "cell_type": "markdown",
   "id": "aec0d84a",
   "metadata": {},
   "source": [
    "Finally predicting on some new inputs `test_x`"
   ]
  },
  {
   "cell_type": "code",
   "execution_count": null,
   "id": "56bcbe2b",
   "metadata": {},
   "outputs": [],
   "source": [
    "model(test_x)"
   ]
  },
  {
   "cell_type": "code",
   "execution_count": null,
   "id": "a04e76cc",
   "metadata": {},
   "outputs": [],
   "source": [
    "# Set into eval mode\n",
    "model.eval()\n",
    "likelihood.eval()\n",
    "# Make predictions\n",
    "with torch.no_grad(), gpytorch.settings.fast_pred_var():\n",
    "    #test_x = torch.linspace(0, 1, 51)\n",
    "    predictions = likelihood(model(test_x,task_indices=test_indices))\n",
    "    mean = predictions.mean\n",
    "    lower, upper = predictions.confidence_region()"
   ]
  },
  {
   "cell_type": "markdown",
   "id": "e05a1a3f",
   "metadata": {},
   "source": [
    "We can then plot some of these tasks to inspect the model fit"
   ]
  },
  {
   "cell_type": "code",
   "execution_count": null,
   "id": "e38335bc",
   "metadata": {},
   "outputs": [],
   "source": [
    "mean[0:51].shape"
   ]
  },
  {
   "cell_type": "code",
   "execution_count": null,
   "id": "b66713b1",
   "metadata": {
    "scrolled": true
   },
   "outputs": [],
   "source": [
    "task = 40\n",
    "plt.plot(x,y[:,task],'k.',alpha=0.1)\n",
    "plt.plot(test_x[task*51:task*51+51],mean[task*51:task*51+51],\"b\")\n",
    "plt.plot(x,f[:,task],\"r\")\n",
    "plt.fill_between(test_x[task*51:task*51+51], lower[task*51:task*51+51], upper[task*51:task*51+51], alpha=1)"
   ]
  },
  {
   "cell_type": "markdown",
   "id": "446d37ef",
   "metadata": {},
   "source": [
    "What about parameters, to we recover the correct parameters?"
   ]
  },
  {
   "cell_type": "code",
   "execution_count": null,
   "id": "85a88847",
   "metadata": {},
   "outputs": [],
   "source": [
    "print(model.covar_module.lengthscale) # Rememeber true length scale is 0.2"
   ]
  },
  {
   "cell_type": "code",
   "execution_count": null,
   "id": "0a51d7e9",
   "metadata": {},
   "outputs": [],
   "source": [
    "print(model.variational_strategy.lmc_coefficients.detach())\n",
    "print(A.t())"
   ]
  },
  {
   "cell_type": "markdown",
   "id": "d1683fde",
   "metadata": {},
   "source": [
    "It does not appear like we are estimating the correct A matrix. Could this be because the representation is a little bit different inside `LMCVariationalStrategy`? Surely it must be. Setting the number of latent functions to 1, `r=1`, we still do not find the correct parameters. They don't even have the correct sign!"
   ]
  },
  {
   "cell_type": "markdown",
   "id": "d71dcb23",
   "metadata": {},
   "source": [
    "No! The reason is because of an inherent identifiability issue. If we are free-form learning the latent functions $u_k(x)$ as well as the matrix $A$ there is no guarantee we converge to the same function values. In a sense the matrix $A$ is too free. This can be checked by initializing $\\hat{A}=A$ and not optimizing over these parameters."
   ]
  },
  {
   "cell_type": "code",
   "execution_count": null,
   "id": "86e5a1d5",
   "metadata": {},
   "outputs": [],
   "source": [
    "latent = model.variational_strategy.base_variational_strategy(test_x.unsqueeze(-1))"
   ]
  },
  {
   "cell_type": "code",
   "execution_count": null,
   "id": "9a189973",
   "metadata": {},
   "outputs": [],
   "source": [
    "plt.plot(test_x,latent.mean[0,:].detach(),\"b--\")\n",
    "plt.plot(x,u[:,0],\"b\")\n",
    "plt.plot(test_x,latent.mean[1,:].detach(),\"r--\")\n",
    "plt.plot(x,u[:,1],\"r\")"
   ]
  },
  {
   "cell_type": "code",
   "execution_count": null,
   "id": "0c9eeccd",
   "metadata": {},
   "outputs": [],
   "source": [
    "model.variational_strategy.variational_distribution.covariance_matrix.shape"
   ]
  },
  {
   "cell_type": "markdown",
   "id": "bea03967",
   "metadata": {},
   "source": [
    "## Modifying the variational strategy"
   ]
  },
  {
   "cell_type": "markdown",
   "id": "f59357db",
   "metadata": {},
   "source": [
    "Okay, so the above code works well, and implements an ICM model with SVI and minibatching. The generic `GaussianLikelihood` means that we can easily incorporate observation specific noise like we have in the real synergy data -- or even *task specific* noises etc.\n",
    "\n",
    "We need to make two more changes to get a new version of PIICM up and running:\n",
    "\n",
    "    1. Instead of learning the matrix A \"free-form\", we want to learn it via a kernel over the outputs.\n",
    "        i. A will be calculated from the (truncated) eigen decomposition of this kernel\n",
    "        ii. We can experiment with the kernel used (i.e. MKL perhaps for the milestone)\n",
    "    2. Each latent function u(x) should be permutation invariant\n",
    "    \n",
    "I will tackle 1. first, as I think it might be the easiest option to go for.\n",
    "\n",
    "Looking at the original code, for the `LMCVariationalStrategy`, the LMC parameters are initialized in the `__init__` by \n",
    "\n",
    "```{python}\n",
    "# LCM coefficients\n",
    "lmc_coefficients = torch.randn(*batch_shape, self.num_tasks)\n",
    "self.register_parameter(\"lmc_coefficients\", torch.nn.Parameter(lmc_coefficients))\n",
    "```\n",
    "\n",
    "I think in principle, I just need to modify this to initialize from the eigendecomposition of the kernel.\n",
    "\n",
    "The easiest would probably be to have the option to pass a covariance over the outputs via the initialization. When setting up the model one could do something like:\n",
    "\n",
    "```{python}\n",
    "output_kernel = RBF(whatever)\n",
    "\n",
    "variational_strategy = gpytorch.variational.ModifiedLMCVariationalStrategy(\n",
    "            gpytorch.variational.VariationalStrategy(\n",
    "                self, inducing_points, variational_distribution, learn_inducing_locations=True\n",
    "            ),\n",
    "            output_kernel,\n",
    "            output_covars\n",
    "            num_tasks=m,\n",
    "            num_latents=r,\n",
    "            latent_dim=-1\n",
    "        )\n",
    "```\n",
    "and then inside variational strategy:\n",
    "\n",
    "```\n",
    "def __init__( ...\n",
    "    \n",
    "    # LCM coefficients\n",
    "    self.output_kernel = output_kernel\n",
    "    self.output_covars = output_covars\n",
    "    ...\n",
    "    \n",
    "@property\n",
    "def lmc_coefficients(self) -> Tensor:\n",
    "        evals, evecs = self.output_kernel(self.output_covars).symeig(eigenvectors=True)\n",
    "        evecs = evecs[:, -self.num_latents:]\n",
    "        evals = linear_operator.operators.DiagLinearOperator(evals[-self.num_latents:])\n",
    "        return evecs.matmul(evals.sqrt()).t().evaluate()\n",
    "```\n",
    "\n",
    "This seems to work. I still need to work on predicting at new outputs though. I should first convince myself that the projection onto the truncated eigenbasis is the correct thing to do.\n",
    "\n",
    "<font color='green'> Okay, I think I'm sufficiently convinced. I'll add this in the `ModifiedLMCVariationalStrategy.call()`, and hope it is not too hacky for it to extend to downstream applications such as BO. </font> \n",
    "\n",
    "Perhaps the easiest way to do this within the call is to check if output_covars are passed as an argument, and then set up the corresponding LMC coefficients like normally.\n",
    "\n",
    "<font color='green'> Yeah, this is also solved now. </font>\n",
    "\n",
    "I've modified the `__call__` of the `ModifiedLMCVariationalStrategy` with an optional additional argument, `task_covars: Optional[Tensor] = None`, that allows me to pass additional task covarites to predict at new outputs. The corresponding LMC-coefficients are generated by the aforementioned projection onto the columns of $A$, and we simply reshape them as before to multiply with the covariance coming from the latent GPs:\n",
    "\n",
    "```\n",
    "            if task_covars is None:\n",
    "                lmc_coefficients = self.lmc_coefficients.expand(*latent_dist.batch_shape,\n",
    "                                                                self.lmc_coefficients.size(-1))\n",
    "            else:\n",
    "                k_star = self.output_kernel(task_covars,self.output_covars)\n",
    "                anew = torch.linalg.solve(self.lmc_coefficients.matmul(self.lmc_coefficients.t()), self.lmc_coefficients.matmul(k_star.evaluate().unsqueeze(-1))).squeeze(-1).t()\n",
    "                lmc_coefficients = anew.expand(*latent_dist.batch_shape, anew.size(-1))\n",
    "```\n",
    "\n",
    "<font color='red'> Now we have a standard ICM model up and running, with a covariance function over the outputs, and using Stochastic Variational inference for the fitting. We need to make each latent function invariant at this point.</font>\n",
    "\n",
    "\n",
    "<font color='green'> Not done yet! I think this might be more about modifying the kernel function for each underlying latent, and can be done efficiently in a nother notebook. Addiationally, a whole new set of plotting functions are needed to see if predictions work, so will do this later.</font>\n",
    "\n",
    "\n",
    "<font color='red'> Regarding the \"LMC_ness\" of the model, if I have `r` latent functions mapped to `m` outputs, my A matrix will look like a `r x m` matrix. When computing the covariance matrix (in the \"all-outputs\" case) the LMCStrategy creates `RootLinearOperator` of each row of the A matrix, i.e. a set of `r` RootLinearOperators, each constructed by $K_i^A=A_{i\\cdot}A_{i\\cdot}^T$, where $A_{i\\cdot}$ denotes the $i$-th row of A. Then it forms the covariance by taking the Kronecker product of $K_i$ and the latent_covariance from the latent functions $K_i^X$ and sums them $K=\\sum_{i=1}^r K_i^X \\otimes K_i^A$ Now, this is fine, but in a real LMC we would want to group things together that have the same length-scale but keep things separate if not. I think this can be achieved by simply using a block-diagonal A matrix with Q blocks corresponding to the number of different length scales. I also think there is probably some nuance in setting up an LMC with the correct covariance structure, and then approximating it using variational inference. I need to think about this.</font>\n",
    "\n",
    "<font color='red'> Okay, I've given it some thought. The LMC model is sort of *de-facto* defined by it's covariance structure as a sum of Kronecker-product type things (in the completely observed case). With SVI, we don't have this exactly, because each latent GP has its own distribution over its own inducing points. But this can be explained with it being approximately true, and true when we have enough data. Because then the SVI bound will be almost exactly equal to the Titsias bound, and the \"free-form\" parameters $\\mu_i, S_i$ will be approximately close to the ones given by Titsias.  **Also, this is about prediction, so we don't really care too much** </font>\n",
    "\n",
    "\n",
    "<font color='Green'> So what needs to be done to extend this to an approximate LCM is to have A on a block-diagonal form, with $R$ blocks, each block $A_i$ an $r \\times r$ block coming from the truncated eigen-decomp of a kernel over covariates. Furthermore, I need a way to pass a list of $R$ covariances so that all the $r$ latent functions within the same block gets the same covariance function.</font>\n",
    "\n",
    "I've wrapped this up into `ModifiedLMCVariationalStrategy` as a member of `synpred.variational.modified_lmc_variational_strategy`. Will try it below"
   ]
  },
  {
   "cell_type": "code",
   "execution_count": 1,
   "id": "4da086ee",
   "metadata": {
    "scrolled": true
   },
   "outputs": [
    {
     "data": {
      "image/png": "[encoded data removed]",
      "text/plain": [
       "<Figure size 640x480 with 1 Axes>"
      ]
     },
     "metadata": {},
     "output_type": "display_data"
    }
   ],
   "source": [
    "# Code starts as before, with some imports and generating data\n",
    "# Some imports\n",
    "%matplotlib inline\n",
    "from matplotlib import pyplot as plt\n",
    "import torch\n",
    "import gpytorch\n",
    "import numpy as np\n",
    "import linear_operator\n",
    "r = 4 # Number of latents\n",
    "n = 1000 # Number of observations per output\n",
    "# Easiest way to sample from a GP using gpytorch?\n",
    "x = torch.linspace(0,1,n)\n",
    "u = torch.zeros(x.size(dim=0),r)\n",
    "\n",
    "\n",
    "mean = gpytorch.means.ZeroMean()\n",
    "kernel = gpytorch.kernels.RBFKernel()\n",
    "kernel.lengthscale = 0.2\n",
    "m = mean(x)\n",
    "K = kernel(x)\n",
    "for i in range(r):\n",
    "    GP = gpytorch.distributions.MultivariateNormal(m,K)\n",
    "    u[:,i] = GP.rsample().detach()\n",
    "    \n",
    "# Now creating outputs as linear combinations of these latent functions\n",
    "# but now the lmc-parameters A is coming from another kernel over some covariates\n",
    "\n",
    "m = 10 # num_outputs\n",
    "#covar_outputs = torch.cat([1+0.1*torch.randn(int(m/2.)),-1+0.8*torch.randn(int(m/2.))])\n",
    "covar_outputs = torch.cat([1+0.1*torch.randn(int(m/2.)),-1+0.1*torch.randn(int(m/2.))])\n",
    "# These are just some really dumb covariates which will give some clustering structure\n",
    "covar_kernel = gpytorch.kernels.RBFKernel()\n",
    "covar_kernel.lengthscale = 0.4\n",
    "covar_kernel = covar_kernel(covar_outputs)\n",
    "evals, evecs = covar_kernel.symeig(eigenvectors=True)\n",
    "evecs = evecs[:, -r:]\n",
    "evals = linear_operator.operators.DiagLinearOperator(evals[-r:])\n",
    "A = evecs.matmul(evals.sqrt()).evaluate().detach()\n",
    "\n",
    "f = A.matmul(u.t()).t()\n",
    "for i in range(m):\n",
    "    plt.plot(x,f[:,i])\n",
    "    \n",
    "# Now generate some corresponding data\n",
    "sigma = 0.1\n",
    "y = f + sigma*torch.randn(f.size())\n",
    "\n",
    "# Now going to get it ready for minibatching\n",
    "from torch.utils.data import TensorDataset, DataLoader\n",
    "\n",
    "# Get everything into long format\n",
    "y_long = y.t().reshape(-1)\n",
    "x_long = x.repeat(m)\n",
    "task_indices = torch.arange(0,m).unsqueeze(1).repeat(1,n).reshape(-1).long()\n",
    "\n",
    "# For last task, will remove some central observations \n",
    "#y_long[-5000:] = float('nan')\n",
    "#x_long = x_long[~y_long.isnan()]\n",
    "#task_indices = task_indices[~y_long.isnan()]\n",
    "#y_long = y_long[~y_long.isnan()]\n",
    "\n",
    "train_dataset = TensorDataset(x_long, y_long,task_indices)\n",
    "train_loader = DataLoader(train_dataset, batch_size=200, shuffle=True)\n",
    "\n",
    "# We also make a version for test here\n",
    "test_x = torch.linspace(0, 1, 51).repeat(m)\n",
    "test_indices = torch.arange(0,m).unsqueeze(1).repeat(1,51).reshape(-1).long()"
   ]
  },
  {
   "cell_type": "code",
   "execution_count": 2,
   "id": "c5d42fa7",
   "metadata": {},
   "outputs": [
    {
     "data": {
      "text/plain": [
       "<matplotlib.colorbar.Colorbar at 0x133053910>"
      ]
     },
     "execution_count": 2,
     "metadata": {},
     "output_type": "execute_result"
    },
    {
     "data": {
      "image/png": "[encoded data removed]",
      "text/plain": [
       "<Figure size 480x480 with 2 Axes>"
      ]
     },
     "metadata": {},
     "output_type": "display_data"
    },
    {
     "data": {
      "image/png": "[encoded data removed]",
      "text/plain": [
       "<Figure size 400x1000 with 2 Axes>"
      ]
     },
     "metadata": {},
     "output_type": "display_data"
    }
   ],
   "source": [
    "plt.matshow(A.matmul(A.t()))\n",
    "plt.colorbar()\n",
    "plt.matshow(A)\n",
    "plt.colorbar()"
   ]
  },
  {
   "cell_type": "code",
   "execution_count": 7,
   "id": "0593497a",
   "metadata": {},
   "outputs": [
    {
     "name": "stdout",
     "output_type": "stream",
     "text": [
      "Init is run!\n"
     ]
    }
   ],
   "source": [
    "from synpred.variational.modified_lmc_variational_strategy import ModifiedLMCVariationalStrategy\n",
    "\n",
    "class ModifiedLMC(gpytorch.models.ApproximateGP):\n",
    "    def __init__(self,output_covars):\n",
    "        print(\"Init is run!\")\n",
    "        # Different set of inducing points for each latent function\n",
    "        inducing_points = torch.rand(r,30,1)\n",
    "        # Same set of inducing points for each latent function\n",
    "        #inducing_points = torch.linspace(0,1,30).unsqueeze(-1).repeat(r,1,1)\n",
    "        # We have to mark the CholeskyVariationalDistribution as batch\n",
    "        # so that we learn a variational distribution for each latent\n",
    "        variational_distribution = gpytorch.variational.CholeskyVariationalDistribution(\n",
    "            inducing_points.size(-2), batch_shape=torch.Size([r])\n",
    "        )\n",
    "        #variational_distribution = gpytorch.variational.MeanFieldVariationalDistribution(\n",
    "        #    inducing_points.size(-2), batch_shape=torch.Size([r])\n",
    "        #)\n",
    "        \n",
    "        # Covariance over the outputs, and initialized by covariates\n",
    "        output_kernel = gpytorch.kernels.RBFKernel()\n",
    "        \n",
    "        # We have to wrap the VariationalStrategy in a ModifiedLMCVariationalStrategy\n",
    "        # so that the output will be a MultitaskMultivariateNormal rather than a batch output\n",
    "        variational_strategy = ModifiedLMCVariationalStrategy(\n",
    "            gpytorch.variational.VariationalStrategy(\n",
    "                self, inducing_points, variational_distribution, learn_inducing_locations=True\n",
    "            ),\n",
    "            output_kernel,\n",
    "            output_covars,\n",
    "            num_tasks=m,\n",
    "            num_latents=r,\n",
    "            latent_dim=-1\n",
    "        )\n",
    "        \n",
    "        super(ModifiedLMC,self).__init__(variational_strategy)\n",
    "        \n",
    "        # The mean and covariance modules could be marked as batch\n",
    "        # so we learn a different set of hyperparameters\n",
    "        # For the ICM model, we do not set them as batch as we want the same kernel for each latent\n",
    "        self.mean_module = gpytorch.means.ZeroMean()\n",
    "        self.covarRRR_module = gpytorch.kernels.RBFKernel()\n",
    "        \n",
    "    def forward(self, x):\n",
    "        # The forward function should be written as if we were dealing with each output\n",
    "        # dimension in batch\n",
    "        mean_x = self.mean_module(x)\n",
    "        covar_x = self.covarRRR_module(x)\n",
    "        return gpytorch.distributions.MultivariateNormal(mean_x, covar_x)\n",
    "\n",
    "    \n",
    "    \n",
    "\n",
    "model = ModifiedLMC(covar_outputs)\n",
    "likelihood = gpytorch.likelihoods.GaussianLikelihood()"
   ]
  },
  {
   "cell_type": "code",
   "execution_count": 8,
   "id": "719d6edd",
   "metadata": {},
   "outputs": [
    {
     "ename": "AttributeError",
     "evalue": "'ModifiedLMC' object has no attribute 'covar_module'",
     "output_type": "error",
     "traceback": [
      "\u001b[0;31m---------------------------------------------------------------------------\u001b[0m",
      "\u001b[0;31mAttributeError\u001b[0m                            Traceback (most recent call last)",
      "Cell \u001b[0;32mIn[8], line 1\u001b[0m\n\u001b[0;32m----> 1\u001b[0m \u001b[43mmodel\u001b[49m\u001b[38;5;241;43m.\u001b[39;49m\u001b[43mcovar_module\u001b[49m\n",
      "File \u001b[0;32m~/opt/anaconda3/envs/synpred/lib/python3.10/site-packages/torch/nn/modules/module.py:1695\u001b[0m, in \u001b[0;36mModule.__getattr__\u001b[0;34m(self, name)\u001b[0m\n\u001b[1;32m   1693\u001b[0m     \u001b[38;5;28;01mif\u001b[39;00m name \u001b[38;5;129;01min\u001b[39;00m modules:\n\u001b[1;32m   1694\u001b[0m         \u001b[38;5;28;01mreturn\u001b[39;00m modules[name]\n\u001b[0;32m-> 1695\u001b[0m \u001b[38;5;28;01mraise\u001b[39;00m \u001b[38;5;167;01mAttributeError\u001b[39;00m(\u001b[38;5;124mf\u001b[39m\u001b[38;5;124m\"\u001b[39m\u001b[38;5;124m'\u001b[39m\u001b[38;5;132;01m{\u001b[39;00m\u001b[38;5;28mtype\u001b[39m(\u001b[38;5;28mself\u001b[39m)\u001b[38;5;241m.\u001b[39m\u001b[38;5;18m__name__\u001b[39m\u001b[38;5;132;01m}\u001b[39;00m\u001b[38;5;124m'\u001b[39m\u001b[38;5;124m object has no attribute \u001b[39m\u001b[38;5;124m'\u001b[39m\u001b[38;5;132;01m{\u001b[39;00mname\u001b[38;5;132;01m}\u001b[39;00m\u001b[38;5;124m'\u001b[39m\u001b[38;5;124m\"\u001b[39m)\n",
      "\u001b[0;31mAttributeError\u001b[0m: 'ModifiedLMC' object has no attribute 'covar_module'"
     ]
    }
   ],
   "source": [
    "model.covar_module"
   ]
  },
  {
   "cell_type": "code",
   "execution_count": 5,
   "id": "4eb2f983",
   "metadata": {
    "scrolled": true
   },
   "outputs": [
    {
     "data": {
      "application/vnd.jupyter.widget-view+json": {
       "model_id": "3606d3fd32444d2d99b0416dc5eae509",
       "version_major": 2,
       "version_minor": 0
      },
      "text/plain": [
       "Epoch:   0%|          | 0/20 [00:00<?, ?it/s]"
      ]
     },
     "metadata": {},
     "output_type": "display_data"
    },
    {
     "data": {
      "application/vnd.jupyter.widget-view+json": {
       "model_id": "",
       "version_major": 2,
       "version_minor": 0
      },
      "text/plain": [
       "Minibatch:   0%|          | 0/50 [00:00<?, ?it/s]"
      ]
     },
     "metadata": {},
     "output_type": "display_data"
    },
    {
     "data": {
      "application/vnd.jupyter.widget-view+json": {
       "model_id": "",
       "version_major": 2,
       "version_minor": 0
      },
      "text/plain": [
       "Minibatch:   0%|          | 0/50 [00:00<?, ?it/s]"
      ]
     },
     "metadata": {},
     "output_type": "display_data"
    },
    {
     "data": {
      "application/vnd.jupyter.widget-view+json": {
       "model_id": "",
       "version_major": 2,
       "version_minor": 0
      },
      "text/plain": [
       "Minibatch:   0%|          | 0/50 [00:00<?, ?it/s]"
      ]
     },
     "metadata": {},
     "output_type": "display_data"
    },
    {
     "data": {
      "application/vnd.jupyter.widget-view+json": {
       "model_id": "",
       "version_major": 2,
       "version_minor": 0
      },
      "text/plain": [
       "Minibatch:   0%|          | 0/50 [00:00<?, ?it/s]"
      ]
     },
     "metadata": {},
     "output_type": "display_data"
    },
    {
     "data": {
      "application/vnd.jupyter.widget-view+json": {
       "model_id": "",
       "version_major": 2,
       "version_minor": 0
      },
      "text/plain": [
       "Minibatch:   0%|          | 0/50 [00:00<?, ?it/s]"
      ]
     },
     "metadata": {},
     "output_type": "display_data"
    },
    {
     "data": {
      "application/vnd.jupyter.widget-view+json": {
       "model_id": "",
       "version_major": 2,
       "version_minor": 0
      },
      "text/plain": [
       "Minibatch:   0%|          | 0/50 [00:00<?, ?it/s]"
      ]
     },
     "metadata": {},
     "output_type": "display_data"
    },
    {
     "data": {
      "application/vnd.jupyter.widget-view+json": {
       "model_id": "",
       "version_major": 2,
       "version_minor": 0
      },
      "text/plain": [
       "Minibatch:   0%|          | 0/50 [00:00<?, ?it/s]"
      ]
     },
     "metadata": {},
     "output_type": "display_data"
    },
    {
     "data": {
      "application/vnd.jupyter.widget-view+json": {
       "model_id": "",
       "version_major": 2,
       "version_minor": 0
      },
      "text/plain": [
       "Minibatch:   0%|          | 0/50 [00:00<?, ?it/s]"
      ]
     },
     "metadata": {},
     "output_type": "display_data"
    },
    {
     "data": {
      "application/vnd.jupyter.widget-view+json": {
       "model_id": "",
       "version_major": 2,
       "version_minor": 0
      },
      "text/plain": [
       "Minibatch:   0%|          | 0/50 [00:00<?, ?it/s]"
      ]
     },
     "metadata": {},
     "output_type": "display_data"
    },
    {
     "data": {
      "application/vnd.jupyter.widget-view+json": {
       "model_id": "",
       "version_major": 2,
       "version_minor": 0
      },
      "text/plain": [
       "Minibatch:   0%|          | 0/50 [00:00<?, ?it/s]"
      ]
     },
     "metadata": {},
     "output_type": "display_data"
    },
    {
     "data": {
      "application/vnd.jupyter.widget-view+json": {
       "model_id": "",
       "version_major": 2,
       "version_minor": 0
      },
      "text/plain": [
       "Minibatch:   0%|          | 0/50 [00:00<?, ?it/s]"
      ]
     },
     "metadata": {},
     "output_type": "display_data"
    },
    {
     "data": {
      "application/vnd.jupyter.widget-view+json": {
       "model_id": "",
       "version_major": 2,
       "version_minor": 0
      },
      "text/plain": [
       "Minibatch:   0%|          | 0/50 [00:00<?, ?it/s]"
      ]
     },
     "metadata": {},
     "output_type": "display_data"
    },
    {
     "data": {
      "application/vnd.jupyter.widget-view+json": {
       "model_id": "",
       "version_major": 2,
       "version_minor": 0
      },
      "text/plain": [
       "Minibatch:   0%|          | 0/50 [00:00<?, ?it/s]"
      ]
     },
     "metadata": {},
     "output_type": "display_data"
    },
    {
     "data": {
      "application/vnd.jupyter.widget-view+json": {
       "model_id": "",
       "version_major": 2,
       "version_minor": 0
      },
      "text/plain": [
       "Minibatch:   0%|          | 0/50 [00:00<?, ?it/s]"
      ]
     },
     "metadata": {},
     "output_type": "display_data"
    },
    {
     "data": {
      "application/vnd.jupyter.widget-view+json": {
       "model_id": "",
       "version_major": 2,
       "version_minor": 0
      },
      "text/plain": [
       "Minibatch:   0%|          | 0/50 [00:00<?, ?it/s]"
      ]
     },
     "metadata": {},
     "output_type": "display_data"
    },
    {
     "data": {
      "application/vnd.jupyter.widget-view+json": {
       "model_id": "",
       "version_major": 2,
       "version_minor": 0
      },
      "text/plain": [
       "Minibatch:   0%|          | 0/50 [00:00<?, ?it/s]"
      ]
     },
     "metadata": {},
     "output_type": "display_data"
    },
    {
     "data": {
      "application/vnd.jupyter.widget-view+json": {
       "model_id": "",
       "version_major": 2,
       "version_minor": 0
      },
      "text/plain": [
       "Minibatch:   0%|          | 0/50 [00:00<?, ?it/s]"
      ]
     },
     "metadata": {},
     "output_type": "display_data"
    },
    {
     "data": {
      "application/vnd.jupyter.widget-view+json": {
       "model_id": "",
       "version_major": 2,
       "version_minor": 0
      },
      "text/plain": [
       "Minibatch:   0%|          | 0/50 [00:00<?, ?it/s]"
      ]
     },
     "metadata": {},
     "output_type": "display_data"
    },
    {
     "data": {
      "application/vnd.jupyter.widget-view+json": {
       "model_id": "",
       "version_major": 2,
       "version_minor": 0
      },
      "text/plain": [
       "Minibatch:   0%|          | 0/50 [00:00<?, ?it/s]"
      ]
     },
     "metadata": {},
     "output_type": "display_data"
    },
    {
     "data": {
      "application/vnd.jupyter.widget-view+json": {
       "model_id": "",
       "version_major": 2,
       "version_minor": 0
      },
      "text/plain": [
       "Minibatch:   0%|          | 0/50 [00:00<?, ?it/s]"
      ]
     },
     "metadata": {},
     "output_type": "display_data"
    }
   ],
   "source": [
    "# this is for running the notebook in our testing framework\n",
    "import os\n",
    "import tqdm.notebook\n",
    "num_epochs = 20 # Number of complete passes through the data\n",
    "\n",
    "\n",
    "model.train()\n",
    "likelihood.train()\n",
    "\n",
    "optimizer = torch.optim.Adam([\n",
    "    {'params': model.parameters()},\n",
    "    {'params': likelihood.parameters()},\n",
    "], lr=0.01)\n",
    "\n",
    "# Uncomment to keep the LMC coefficients fixed at true values\n",
    "#model.variational_strategy.lmc_coefficients = torch.nn.Parameter(A.t())\n",
    "#optimizer = torch.optim.Adam([\n",
    "#    {'params': list(set(model.parameters()) - {model.variational_strategy.lmc_coefficients, })},\n",
    "#    {'params': likelihood.parameters()},\n",
    "#], lr=0.01)\n",
    "\n",
    "\n",
    "# Our loss object. We're using the VariationalELBO, which essentially just computes the ELBO\n",
    "#mll = gpytorch.mlls.VariationalELBO(likelihood, model, num_data=y.size(0))\n",
    "mll = gpytorch.mlls.VariationalELBO(likelihood, model, num_data=y_long.size(0))\n",
    "\n",
    "# We use more CG iterations here because the preconditioner introduced in the NeurIPS paper seems to be less\n",
    "# effective for VI.\n",
    "epochs_iter = tqdm.notebook.tqdm(range(num_epochs), desc=\"Epoch\")\n",
    "for i in epochs_iter:\n",
    "    # Within each iteration, we will go over each minibatch of data\n",
    "    minibatch_iter = tqdm.notebook.tqdm(train_loader, desc=\"Minibatch\", leave=False)\n",
    "    for x_batch, y_batch, task_batch in minibatch_iter:\n",
    "        optimizer.zero_grad()\n",
    "        output = model(x_batch,task_indices=task_batch)\n",
    "        loss = -mll(output, y_batch)\n",
    "        minibatch_iter.set_postfix(loss=loss.item())\n",
    "        loss.backward()\n",
    "        optimizer.step()\n",
    "        \n",
    "    #optimizer.zero_grad()\n",
    "    #output = model(x)\n",
    "    #loss = -mll(output, y)\n",
    "    #epochs_iter.set_postfix(loss=loss.item())\n",
    "    #loss.backward()\n",
    "    #optimizer.step()"
   ]
  },
  {
   "cell_type": "code",
   "execution_count": 216,
   "id": "df215fb2",
   "metadata": {},
   "outputs": [
    {
     "data": {
      "text/plain": [
       "tensor([ 0.9713,  0.9762,  1.0571,  1.1456,  0.9389, -0.9218, -1.0161, -1.0903,\n",
       "        -0.9623, -0.8619])"
      ]
     },
     "execution_count": 216,
     "metadata": {},
     "output_type": "execute_result"
    }
   ],
   "source": [
    "covar_outputs"
   ]
  },
  {
   "cell_type": "code",
   "execution_count": null,
   "id": "9a6fd25c",
   "metadata": {},
   "outputs": [],
   "source": []
  },
  {
   "cell_type": "code",
   "execution_count": 226,
   "id": "2d3ed36d",
   "metadata": {
    "scrolled": false
   },
   "outputs": [],
   "source": [
    "#newoutput = torch.tensor([0.9971,0])\n",
    "newoutput = torch.linspace(-1,1,10)\n",
    "\n",
    "test_x = torch.linspace(0, 1, 51).repeat(newoutput.size(-1))\n",
    "test_indices = torch.arange(0,newoutput.size(-1)).unsqueeze(1).repeat(1,51).reshape(-1).long()"
   ]
  },
  {
   "cell_type": "code",
   "execution_count": 227,
   "id": "092aced9",
   "metadata": {},
   "outputs": [],
   "source": [
    "# Set into eval mode\n",
    "model.eval()\n",
    "likelihood.eval()\n",
    "# Make predictions\n",
    "\n",
    "with torch.no_grad(), gpytorch.settings.fast_pred_var():\n",
    "    predictions = likelihood(model(test_x,task_indices=test_indices,task_covars=newoutput))\n",
    "    mean = predictions.mean\n",
    "    lower, upper = predictions.confidence_region()"
   ]
  },
  {
   "cell_type": "code",
   "execution_count": 237,
   "id": "55eb2f54",
   "metadata": {
    "scrolled": false
   },
   "outputs": [
    {
     "data": {
      "text/plain": [
       "<matplotlib.collections.PolyCollection at 0x17e335b70>"
      ]
     },
     "execution_count": 237,
     "metadata": {},
     "output_type": "execute_result"
    },
    {
     "data": {
      "image/png": "[encoded data removed]",
      "text/plain": [
       "<Figure size 640x480 with 1 Axes>"
      ]
     },
     "metadata": {},
     "output_type": "display_data"
    }
   ],
   "source": [
    "task = 0\n",
    "plt.plot(test_x[task*51:task*51+51],mean[task*51:task*51+51],\"b\")\n",
    "plt.fill_between(test_x[task*51:task*51+51], lower[task*51:task*51+51], upper[task*51:task*51+51])"
   ]
  },
  {
   "cell_type": "code",
   "execution_count": 84,
   "id": "3f7bc099",
   "metadata": {},
   "outputs": [
    {
     "data": {
      "text/plain": [
       "torch.Size([510])"
      ]
     },
     "execution_count": 84,
     "metadata": {},
     "output_type": "execute_result"
    }
   ],
   "source": [
    "mean.shape"
   ]
  },
  {
   "cell_type": "code",
   "execution_count": 85,
   "id": "d0ae3a7c",
   "metadata": {},
   "outputs": [
    {
     "data": {
      "text/plain": [
       "<matplotlib.collections.PolyCollection at 0x174ec9a50>"
      ]
     },
     "execution_count": 85,
     "metadata": {},
     "output_type": "execute_result"
    },
    {
     "data": {
      "image/png": "[encoded data removed]",
      "text/plain": [
       "<Figure size 640x480 with 1 Axes>"
      ]
     },
     "metadata": {},
     "output_type": "display_data"
    }
   ],
   "source": [
    "task = 0\n",
    "plt.plot(x,y[:,task],'k.',alpha=0.1)\n",
    "plt.plot(test_x[task*51:task*51+51],mean[task*51:task*51+51],\"b\")\n",
    "plt.plot(x,f[:,task],\"r\")\n",
    "plt.fill_between(test_x[task*51:task*51+51], lower[task*51:task*51+51], upper[task*51:task*51+51], alpha=1)"
   ]
  },
  {
   "cell_type": "code",
   "execution_count": 96,
   "id": "e30842c6",
   "metadata": {},
   "outputs": [
    {
     "data": {
      "text/plain": [
       "torch.Size([51, 1])"
      ]
     },
     "execution_count": 96,
     "metadata": {},
     "output_type": "execute_result"
    }
   ],
   "source": [
    "lower.shape"
   ]
  },
  {
   "cell_type": "code",
   "execution_count": 106,
   "id": "a92ed088",
   "metadata": {},
   "outputs": [
    {
     "data": {
      "text/plain": [
       "tensor([0.0000, 0.0200, 0.0400, 0.0600, 0.0800, 0.1000, 0.1200, 0.1400, 0.1600,\n",
       "        0.1800, 0.2000, 0.2200, 0.2400, 0.2600, 0.2800, 0.3000, 0.3200, 0.3400,\n",
       "        0.3600, 0.3800, 0.4000, 0.4200, 0.4400, 0.4600, 0.4800, 0.5000, 0.5200,\n",
       "        0.5400, 0.5600, 0.5800, 0.6000, 0.6200, 0.6400, 0.6600, 0.6800, 0.7000,\n",
       "        0.7200, 0.7400, 0.7600, 0.7800, 0.8000, 0.8200, 0.8400, 0.8600, 0.8800,\n",
       "        0.9000, 0.9200, 0.9400, 0.9600, 0.9800, 1.0000])"
      ]
     },
     "execution_count": 106,
     "metadata": {},
     "output_type": "execute_result"
    }
   ],
   "source": [
    "test_x"
   ]
  },
  {
   "cell_type": "code",
   "execution_count": 11,
   "id": "bf98581e",
   "metadata": {},
   "outputs": [
    {
     "data": {
      "text/plain": [
       "array([[0.39530256]], dtype=float32)"
      ]
     },
     "execution_count": 11,
     "metadata": {},
     "output_type": "execute_result"
    }
   ],
   "source": [
    "model.variational_strategy.output_kernel.lengthscale.detach().numpy()"
   ]
  },
  {
   "cell_type": "code",
   "execution_count": 12,
   "id": "158d3608",
   "metadata": {},
   "outputs": [
    {
     "data": {
      "text/plain": [
       "Parameter containing:\n",
       "tensor([[[ 1.2601],\n",
       "         [ 0.8118],\n",
       "         [ 0.9288],\n",
       "         [ 0.9005],\n",
       "         [ 0.1906],\n",
       "         [ 0.0295],\n",
       "         [ 0.1371],\n",
       "         [ 0.7617],\n",
       "         [ 0.4753],\n",
       "         [ 0.6249],\n",
       "         [ 0.5603],\n",
       "         [ 0.6488],\n",
       "         [ 0.4696],\n",
       "         [ 1.0945],\n",
       "         [ 0.7138],\n",
       "         [ 1.0122],\n",
       "         [ 1.2405],\n",
       "         [ 0.6848],\n",
       "         [ 0.6863],\n",
       "         [ 0.6368],\n",
       "         [ 0.3039],\n",
       "         [ 0.6752],\n",
       "         [ 0.9987],\n",
       "         [ 0.6763],\n",
       "         [ 0.6865],\n",
       "         [ 0.9914],\n",
       "         [ 0.3554],\n",
       "         [ 0.3905],\n",
       "         [ 0.5299],\n",
       "         [ 0.9758]],\n",
       "\n",
       "        [[ 0.9300],\n",
       "         [ 1.1019],\n",
       "         [ 1.0010],\n",
       "         [-0.2489],\n",
       "         [ 0.8963],\n",
       "         [-0.0540],\n",
       "         [ 0.9272],\n",
       "         [ 0.0441],\n",
       "         [ 0.8462],\n",
       "         [ 0.2732],\n",
       "         [ 0.8077],\n",
       "         [ 0.8767],\n",
       "         [ 0.7720],\n",
       "         [-0.1152],\n",
       "         [ 0.9452],\n",
       "         [ 0.9163],\n",
       "         [ 0.9255],\n",
       "         [ 0.9306],\n",
       "         [ 0.3459],\n",
       "         [ 0.4087],\n",
       "         [ 0.7509],\n",
       "         [ 0.7266],\n",
       "         [ 0.6861],\n",
       "         [ 0.4519],\n",
       "         [ 0.7379],\n",
       "         [ 0.5269],\n",
       "         [ 0.4954],\n",
       "         [ 0.4629],\n",
       "         [ 0.5773],\n",
       "         [ 0.6391]],\n",
       "\n",
       "        [[ 1.2415],\n",
       "         [ 0.1428],\n",
       "         [ 1.0456],\n",
       "         [ 0.2864],\n",
       "         [ 0.9988],\n",
       "         [ 0.9592],\n",
       "         [ 0.9030],\n",
       "         [ 0.2119],\n",
       "         [ 1.0078],\n",
       "         [ 0.7946],\n",
       "         [ 0.4562],\n",
       "         [ 0.3261],\n",
       "         [ 0.8656],\n",
       "         [ 0.2801],\n",
       "         [ 0.5705],\n",
       "         [ 0.0188],\n",
       "         [ 0.9393],\n",
       "         [ 0.8617],\n",
       "         [ 0.3620],\n",
       "         [ 0.4887],\n",
       "         [ 0.8829],\n",
       "         [ 0.4738],\n",
       "         [ 0.3615],\n",
       "         [ 0.4157],\n",
       "         [ 0.7296],\n",
       "         [ 0.4333],\n",
       "         [ 0.2402],\n",
       "         [ 0.4150],\n",
       "         [ 0.4163],\n",
       "         [ 0.6638]],\n",
       "\n",
       "        [[ 0.7308],\n",
       "         [ 0.7678],\n",
       "         [ 0.6671],\n",
       "         [ 0.7001],\n",
       "         [ 0.6886],\n",
       "         [ 0.7410],\n",
       "         [ 0.6905],\n",
       "         [ 0.8020],\n",
       "         [ 0.9039],\n",
       "         [ 0.8351],\n",
       "         [ 0.7660],\n",
       "         [ 0.7705],\n",
       "         [ 0.7718],\n",
       "         [ 0.7692],\n",
       "         [-0.1453],\n",
       "         [ 0.5727],\n",
       "         [ 0.4770],\n",
       "         [ 0.3305],\n",
       "         [ 0.6458],\n",
       "         [ 0.6381],\n",
       "         [ 0.0071],\n",
       "         [ 0.8205],\n",
       "         [ 0.7010],\n",
       "         [ 0.7068],\n",
       "         [ 0.8146],\n",
       "         [ 0.6981],\n",
       "         [ 0.7010],\n",
       "         [ 0.9942],\n",
       "         [ 0.0936],\n",
       "         [ 0.2090]]], requires_grad=True)"
      ]
     },
     "execution_count": 12,
     "metadata": {},
     "output_type": "execute_result"
    }
   ],
   "source": [
    "model.variational_strategy.base_variational_strategy.inducing_points\n"
   ]
  },
  {
   "cell_type": "code",
   "execution_count": 13,
   "id": "f30c19fd",
   "metadata": {},
   "outputs": [
    {
     "data": {
      "text/plain": [
       "<matplotlib.colorbar.Colorbar at 0x147f91cc0>"
      ]
     },
     "execution_count": 13,
     "metadata": {},
     "output_type": "execute_result"
    },
    {
     "data": {
      "image/png": "[encoded data removed]",
      "text/plain": [
       "<Figure size 480x480 with 2 Axes>"
      ]
     },
     "metadata": {},
     "output_type": "display_data"
    },
    {
     "data": {
      "image/png": "[encoded data removed]",
      "text/plain": [
       "<Figure size 480x480 with 2 Axes>"
      ]
     },
     "metadata": {},
     "output_type": "display_data"
    }
   ],
   "source": [
    "plt.matshow(model.variational_strategy.lmc_coefficients.t().matmul(model.variational_strategy.lmc_coefficients).detach())\n",
    "\n",
    "plt.colorbar()\n",
    "plt.matshow(A.matmul(A.t()))\n",
    "plt.colorbar()"
   ]
  },
  {
   "cell_type": "code",
   "execution_count": 14,
   "id": "925741f1",
   "metadata": {},
   "outputs": [
    {
     "data": {
      "text/plain": [
       "Parameter containing:\n",
       "tensor([[ 1.3418,  0.2308,  1.0337, -0.7314,  0.4954, -0.6027, -0.7738,  1.0208,\n",
       "          0.7214,  0.7826, -1.1155,  0.9980,  0.2741,  1.6129,  0.9789,  0.8944,\n",
       "          0.9715,  0.6719,  0.4576,  0.0378,  0.5028,  0.3222,  0.7263,  0.2079,\n",
       "          0.1576,  0.3256,  0.7637,  0.5266, -0.2676,  0.2251],\n",
       "        [ 0.7111,  0.3298,  0.7695,  0.5954, -1.0278, -1.2680,  0.6101, -1.7252,\n",
       "         -0.5907,  0.5707, -1.4061,  1.1803, -1.1738, -0.3153,  0.8752, -0.6910,\n",
       "          0.6612,  0.7144, -0.7164, -1.5520, -1.7921, -1.8034, -1.9531, -1.1536,\n",
       "         -1.7324, -1.9219, -1.0731, -1.5880,  0.1190, -0.3271],\n",
       "        [ 0.3905,  0.1206,  0.7008, -0.2019,  0.8849,  1.3500,  1.2440, -1.7487,\n",
       "          0.2517,  1.0496,  0.7954,  0.6906,  0.7654,  0.5577,  0.6840,  0.1173,\n",
       "          0.3275,  0.4735,  0.6507,  0.7702,  0.3700,  0.6436,  0.5311,  0.5405,\n",
       "          0.7622,  0.4488, -0.4946,  0.4652,  0.3935,  0.2961],\n",
       "        [ 0.8572, -0.6975, -0.3803, -0.1216,  0.7086,  0.6021,  0.7274, -1.3542,\n",
       "         -1.1873, -0.8131, -0.3795, -0.6637, -0.2457,  0.6211,  0.8970,  0.5512,\n",
       "          0.8417,  0.7961,  0.0366, -0.1428,  1.3666, -1.3160,  0.9624,  0.9061,\n",
       "         -1.3451,  0.8404,  0.7766, -0.7046,  1.0163, -0.9799]],\n",
       "       requires_grad=True)"
      ]
     },
     "execution_count": 14,
     "metadata": {},
     "output_type": "execute_result"
    }
   ],
   "source": [
    "model.variational_strategy.base_variational_strategy.variational_distribution.mean"
   ]
  },
  {
   "cell_type": "code",
   "execution_count": 15,
   "id": "37a59377",
   "metadata": {},
   "outputs": [
    {
     "data": {
      "text/plain": [
       "torch.Size([4, 10])"
      ]
     },
     "execution_count": 15,
     "metadata": {},
     "output_type": "execute_result"
    }
   ],
   "source": [
    "model.variational_strategy.lmc_coefficients.shape"
   ]
  },
  {
   "cell_type": "code",
   "execution_count": 16,
   "id": "330a23ce",
   "metadata": {},
   "outputs": [
    {
     "data": {
      "text/plain": [
       "tensor([[0.3473],\n",
       "        [0.2462],\n",
       "        [0.6496],\n",
       "        [0.9119],\n",
       "        [0.8909],\n",
       "        [0.3714],\n",
       "        [0.5455],\n",
       "        [0.9189],\n",
       "        [0.6216],\n",
       "        [0.3233],\n",
       "        [0.5596],\n",
       "        [0.8639],\n",
       "        [0.7417],\n",
       "        [0.7658],\n",
       "        [0.8679],\n",
       "        [0.9179],\n",
       "        [0.7948],\n",
       "        [0.2533],\n",
       "        [0.3423],\n",
       "        [0.2783],\n",
       "        [0.7097],\n",
       "        [0.5556],\n",
       "        [0.2953],\n",
       "        [0.4685],\n",
       "        [0.9630],\n",
       "        [0.8999],\n",
       "        [0.0871],\n",
       "        [0.9620],\n",
       "        [0.8969],\n",
       "        [0.7307],\n",
       "        [0.6787],\n",
       "        [0.3904],\n",
       "        [0.8288],\n",
       "        [0.5495],\n",
       "        [0.4134],\n",
       "        [0.5566],\n",
       "        [0.6777],\n",
       "        [0.6897],\n",
       "        [0.2553],\n",
       "        [0.7237],\n",
       "        [0.3704],\n",
       "        [0.5676],\n",
       "        [0.0140],\n",
       "        [0.2302],\n",
       "        [0.8168],\n",
       "        [0.9940],\n",
       "        [0.9009],\n",
       "        [0.0691],\n",
       "        [0.6617],\n",
       "        [0.2392],\n",
       "        [0.2322],\n",
       "        [0.4424],\n",
       "        [0.7477],\n",
       "        [0.9399],\n",
       "        [0.2102],\n",
       "        [0.5916],\n",
       "        [0.5215],\n",
       "        [0.5065],\n",
       "        [0.3293],\n",
       "        [0.5375],\n",
       "        [0.3303],\n",
       "        [0.7377],\n",
       "        [0.1401],\n",
       "        [0.1441],\n",
       "        [0.0430],\n",
       "        [0.0561],\n",
       "        [0.4244],\n",
       "        [0.5926],\n",
       "        [0.2082],\n",
       "        [0.1031],\n",
       "        [0.8498],\n",
       "        [0.4975],\n",
       "        [0.7397],\n",
       "        [0.6036],\n",
       "        [0.9089],\n",
       "        [0.4935],\n",
       "        [0.0230],\n",
       "        [0.5546],\n",
       "        [0.2753],\n",
       "        [0.6757],\n",
       "        [0.6186],\n",
       "        [0.9880],\n",
       "        [0.3193],\n",
       "        [0.5946],\n",
       "        [0.1912],\n",
       "        [0.5305],\n",
       "        [0.1762],\n",
       "        [0.8078],\n",
       "        [0.7608],\n",
       "        [0.3253],\n",
       "        [0.1351],\n",
       "        [0.9860],\n",
       "        [0.9900],\n",
       "        [0.8689],\n",
       "        [0.2893],\n",
       "        [0.5566],\n",
       "        [0.1471],\n",
       "        [0.4705],\n",
       "        [0.2523],\n",
       "        [0.6667],\n",
       "        [0.9059],\n",
       "        [0.2262],\n",
       "        [0.1001],\n",
       "        [0.2933],\n",
       "        [0.3063],\n",
       "        [0.4775],\n",
       "        [0.6036],\n",
       "        [0.7417],\n",
       "        [0.5195],\n",
       "        [0.0440],\n",
       "        [0.2503],\n",
       "        [0.5425],\n",
       "        [0.6697],\n",
       "        [0.1441],\n",
       "        [0.1832],\n",
       "        [0.5205],\n",
       "        [0.0971],\n",
       "        [0.4805],\n",
       "        [0.9069],\n",
       "        [0.8739],\n",
       "        [0.8939],\n",
       "        [0.2983],\n",
       "        [0.7267],\n",
       "        [0.8308],\n",
       "        [0.8218],\n",
       "        [0.4965],\n",
       "        [0.4444],\n",
       "        [0.0631],\n",
       "        [0.5455],\n",
       "        [0.9580],\n",
       "        [0.7618],\n",
       "        [0.5005],\n",
       "        [0.2032],\n",
       "        [0.3353],\n",
       "        [0.2843],\n",
       "        [0.7487],\n",
       "        [0.8098],\n",
       "        [0.4394],\n",
       "        [0.2703],\n",
       "        [0.9990],\n",
       "        [0.8218],\n",
       "        [0.3694],\n",
       "        [0.2613],\n",
       "        [0.6887],\n",
       "        [0.1772],\n",
       "        [0.4494],\n",
       "        [0.2603],\n",
       "        [0.6597],\n",
       "        [0.0060],\n",
       "        [0.5836],\n",
       "        [0.1411],\n",
       "        [0.5786],\n",
       "        [0.6336],\n",
       "        [0.2082],\n",
       "        [0.9940],\n",
       "        [0.8068],\n",
       "        [0.7127],\n",
       "        [0.0701],\n",
       "        [0.5866],\n",
       "        [0.3303],\n",
       "        [0.2843],\n",
       "        [0.0601],\n",
       "        [0.9990],\n",
       "        [0.8519],\n",
       "        [0.1031],\n",
       "        [0.7628],\n",
       "        [0.6336],\n",
       "        [0.1502],\n",
       "        [0.8328],\n",
       "        [0.7898],\n",
       "        [0.1842],\n",
       "        [0.4685],\n",
       "        [0.1291],\n",
       "        [0.2633],\n",
       "        [0.4074],\n",
       "        [0.1862],\n",
       "        [0.9720],\n",
       "        [0.5996],\n",
       "        [0.9449],\n",
       "        [0.1752],\n",
       "        [0.3343],\n",
       "        [0.0751],\n",
       "        [0.7528],\n",
       "        [0.1391],\n",
       "        [0.4204],\n",
       "        [0.2292],\n",
       "        [0.6657],\n",
       "        [0.8989],\n",
       "        [0.1011],\n",
       "        [0.8589],\n",
       "        [0.5095],\n",
       "        [0.3013],\n",
       "        [0.5495],\n",
       "        [0.7908],\n",
       "        [0.6426],\n",
       "        [0.6136],\n",
       "        [0.1161],\n",
       "        [0.8318],\n",
       "        [0.3433],\n",
       "        [0.6857]])"
      ]
     },
     "execution_count": 16,
     "metadata": {},
     "output_type": "execute_result"
    }
   ],
   "source": [
    "x_batch.unsqueeze(-1)"
   ]
  },
  {
   "cell_type": "code",
   "execution_count": 17,
   "id": "5a5e0193",
   "metadata": {},
   "outputs": [
    {
     "data": {
      "text/plain": [
       "torch.Size([200])"
      ]
     },
     "execution_count": 17,
     "metadata": {},
     "output_type": "execute_result"
    }
   ],
   "source": [
    "x_batch.shape"
   ]
  },
  {
   "cell_type": "code",
   "execution_count": 18,
   "id": "202a25a9",
   "metadata": {},
   "outputs": [],
   "source": [
    "latent_dist = model.variational_strategy.base_variational_strategy(x_batch.unsqueeze(-1))\n",
    "num_batch = len(latent_dist.batch_shape)\n",
    "latent_dim = num_batch + model.variational_strategy.latent_dim\n",
    "num_dim = num_batch + len(latent_dist.event_shape)"
   ]
  },
  {
   "cell_type": "code",
   "execution_count": null,
   "id": "9dc1248a",
   "metadata": {},
   "outputs": [],
   "source": []
  },
  {
   "cell_type": "code",
   "execution_count": 19,
   "id": "05289141",
   "metadata": {},
   "outputs": [],
   "source": [
    "lmc_coefficients = model.variational_strategy.lmc_coefficients.expand(*latent_dist.batch_shape,model.variational_strategy.lmc_coefficients.size(-1))"
   ]
  },
  {
   "cell_type": "code",
   "execution_count": 20,
   "id": "8fa5e9d5",
   "metadata": {},
   "outputs": [],
   "source": [
    "k_star = model.variational_strategy.output_kernel(newoutput,model.variational_strategy.output_covars)\n",
    "anew = torch.linalg.solve(model.variational_strategy.lmc_coefficients.matmul(model.variational_strategy.lmc_coefficients.t()),\n",
    "                          model.variational_strategy.lmc_coefficients.matmul(k_star.evaluate().unsqueeze(-1))).squeeze(-1).t()\n",
    "lmc_coefficients = anew.expand(*latent_dist.batch_shape, anew.size(-1))"
   ]
  },
  {
   "cell_type": "code",
   "execution_count": 21,
   "id": "d8838cd8",
   "metadata": {
    "scrolled": true
   },
   "outputs": [
    {
     "data": {
      "text/plain": [
       "10"
      ]
     },
     "execution_count": 21,
     "metadata": {},
     "output_type": "execute_result"
    }
   ],
   "source": [
    "model.variational_strategy.lmc_coefficients.size(-1)"
   ]
  },
  {
   "cell_type": "code",
   "execution_count": 22,
   "id": "67d82d3a",
   "metadata": {},
   "outputs": [
    {
     "data": {
      "text/plain": [
       "1"
      ]
     },
     "execution_count": 22,
     "metadata": {},
     "output_type": "execute_result"
    }
   ],
   "source": [
    "anew.size(-1)"
   ]
  },
  {
   "cell_type": "code",
   "execution_count": 23,
   "id": "46f94376",
   "metadata": {},
   "outputs": [],
   "source": [
    "latent_mean = latent_dist.mean.permute(*range(0, latent_dim), *range(latent_dim + 1, num_dim), latent_dim)\n",
    "mean = latent_mean @ lmc_coefficients.permute(\n",
    "                *range(0, latent_dim), *range(latent_dim + 1, num_dim - 1), latent_dim, -1\n",
    "            )"
   ]
  },
  {
   "cell_type": "code",
   "execution_count": 24,
   "id": "bc110138",
   "metadata": {},
   "outputs": [
    {
     "data": {
      "text/plain": [
       "torch.Size([200, 1])"
      ]
     },
     "execution_count": 24,
     "metadata": {},
     "output_type": "execute_result"
    }
   ],
   "source": [
    "mean.shape"
   ]
  },
  {
   "cell_type": "code",
   "execution_count": 25,
   "id": "b06e21ff",
   "metadata": {},
   "outputs": [],
   "source": [
    "latent_covar = latent_dist.lazy_covariance_matrix\n",
    "lmc_factor = linear_operator.operators.RootLinearOperator(lmc_coefficients.unsqueeze(-1))"
   ]
  },
  {
   "cell_type": "code",
   "execution_count": 27,
   "id": "9f5c3fd0",
   "metadata": {},
   "outputs": [
    {
     "data": {
      "text/plain": [
       "torch.Size([4, 1, 1])"
      ]
     },
     "execution_count": 27,
     "metadata": {},
     "output_type": "execute_result"
    }
   ],
   "source": [
    "lmc_factor.shape"
   ]
  },
  {
   "cell_type": "code",
   "execution_count": null,
   "id": "afcccb43",
   "metadata": {},
   "outputs": [],
   "source": [
    "lmc_coefficients.unsqueeze(-1).shape"
   ]
  },
  {
   "cell_type": "code",
   "execution_count": null,
   "id": "644715ae",
   "metadata": {},
   "outputs": [],
   "source": [
    "lmc_coefficients.shape"
   ]
  },
  {
   "cell_type": "code",
   "execution_count": null,
   "id": "99e915b5",
   "metadata": {},
   "outputs": [],
   "source": [
    "lmc_factor.shape"
   ]
  },
  {
   "cell_type": "code",
   "execution_count": 28,
   "id": "febf2fc9",
   "metadata": {},
   "outputs": [],
   "source": [
    "covar = linear_operator.operators.KroneckerProductLinearOperator(latent_covar, lmc_factor).sum(latent_dim)"
   ]
  },
  {
   "cell_type": "code",
   "execution_count": 30,
   "id": "fd291025",
   "metadata": {},
   "outputs": [
    {
     "data": {
      "text/plain": [
       "torch.Size([200, 200])"
      ]
     },
     "execution_count": 30,
     "metadata": {},
     "output_type": "execute_result"
    }
   ],
   "source": [
    "covar.shape"
   ]
  },
  {
   "cell_type": "code",
   "execution_count": null,
   "id": "9a1aaab2",
   "metadata": {},
   "outputs": [],
   "source": [
    "linear_operator.operators.KroneckerProductLinearOperator(latent_covar, lmc_factor).sum(latent_dim).shape"
   ]
  },
  {
   "cell_type": "code",
   "execution_count": null,
   "id": "f2ee884b",
   "metadata": {
    "scrolled": true
   },
   "outputs": [],
   "source": [
    "latent_covar.evaluate()[0,0:5,0:5]"
   ]
  },
  {
   "cell_type": "code",
   "execution_count": null,
   "id": "ed8320e2",
   "metadata": {
    "scrolled": true
   },
   "outputs": [],
   "source": [
    "latent_covar.evaluate()[1,0:5,0:5]"
   ]
  },
  {
   "cell_type": "code",
   "execution_count": null,
   "id": "f4550bd2",
   "metadata": {},
   "outputs": [],
   "source": [
    "latent_covar.shape"
   ]
  },
  {
   "cell_type": "code",
   "execution_count": null,
   "id": "831aa5e1",
   "metadata": {},
   "outputs": [],
   "source": [
    "model.variational_strategy.base_variational_strategy.inducing_points"
   ]
  },
  {
   "cell_type": "code",
   "execution_count": null,
   "id": "0accaf73",
   "metadata": {
    "scrolled": true
   },
   "outputs": [],
   "source": [
    "model.variational_strategy.base_variational_strategy.variational_distribution[0,:].covariance_matrix[0:5,0:5]"
   ]
  },
  {
   "cell_type": "code",
   "execution_count": null,
   "id": "92b6dcbf",
   "metadata": {},
   "outputs": [],
   "source": [
    "model.variational_strategy.base_variational_strategy.variational_distribution[1,:].covariance_matrix[0:5,0:5]"
   ]
  },
  {
   "cell_type": "code",
   "execution_count": null,
   "id": "ef9923f6",
   "metadata": {},
   "outputs": [],
   "source": [
    "plt.matshow(model.variational_strategy.base_variational_strategy.variational_distribution[0,:].covariance_matrix)\n",
    "plt.matshow(model.variational_strategy.base_variational_strategy.variational_distribution[1,:].covariance_matrix)\n",
    "plt.matshow(model.variational_strategy.base_variational_strategy.variational_distribution[2,:].covariance_matrix)\n",
    "plt.matshow(model.variational_strategy.base_variational_strategy.variational_distribution[3,:].covariance_matrix)\n"
   ]
  },
  {
   "cell_type": "code",
   "execution_count": null,
   "id": "ee9ef67e",
   "metadata": {},
   "outputs": [],
   "source": [
    "model.variational_strategy.base_variational_strategy"
   ]
  },
  {
   "cell_type": "code",
   "execution_count": null,
   "id": "2fae2821",
   "metadata": {},
   "outputs": [],
   "source": []
  },
  {
   "cell_type": "code",
   "execution_count": null,
   "id": "38f1a9bd",
   "metadata": {},
   "outputs": [],
   "source": [
    "lmc_coefficients = model.variational_strategy.lmc_coefficients"
   ]
  },
  {
   "cell_type": "code",
   "execution_count": null,
   "id": "088168fb",
   "metadata": {},
   "outputs": [],
   "source": [
    "covar_outputs"
   ]
  },
  {
   "cell_type": "code",
   "execution_count": null,
   "id": "7be4cf91",
   "metadata": {},
   "outputs": [],
   "source": [
    "# A new test case\n",
    "#newoutput = torch.tensor([-1.3099])\n",
    "newoutput = covar_outputs\n",
    "k_star = model.variational_strategy.output_kernel(newoutput,model.variational_strategy.output_covars)"
   ]
  },
  {
   "cell_type": "code",
   "execution_count": null,
   "id": "c107f755",
   "metadata": {},
   "outputs": [],
   "source": [
    "k_star.evaluate()"
   ]
  },
  {
   "cell_type": "code",
   "execution_count": null,
   "id": "24b40f96",
   "metadata": {},
   "outputs": [],
   "source": [
    "k_star.shape"
   ]
  },
  {
   "cell_type": "code",
   "execution_count": null,
   "id": "6e3bdac1",
   "metadata": {},
   "outputs": [],
   "source": [
    "anew = torch.linalg.solve(lmc_coefficients.matmul(lmc_coefficients.t()),lmc_coefficients.matmul(k_star.evaluate().unsqueeze(-1)))"
   ]
  },
  {
   "cell_type": "code",
   "execution_count": null,
   "id": "f42e4c5f",
   "metadata": {},
   "outputs": [],
   "source": [
    "anew.squeeze(-1).t()"
   ]
  },
  {
   "cell_type": "code",
   "execution_count": null,
   "id": "fbec3b19",
   "metadata": {},
   "outputs": [],
   "source": [
    "lmc_coefficients"
   ]
  },
  {
   "cell_type": "code",
   "execution_count": null,
   "id": "39b268f4",
   "metadata": {},
   "outputs": [],
   "source": [
    "model.variational_strategy.base_variational_strategy"
   ]
  },
  {
   "cell_type": "code",
   "execution_count": null,
   "id": "251a5a8a",
   "metadata": {},
   "outputs": [],
   "source": []
  },
  {
   "cell_type": "code",
   "execution_count": null,
   "id": "2b9e5ce7",
   "metadata": {},
   "outputs": [],
   "source": []
  },
  {
   "cell_type": "code",
   "execution_count": null,
   "id": "2e645a12",
   "metadata": {},
   "outputs": [],
   "source": []
  }
 ],
 "metadata": {
  "kernelspec": {
   "display_name": "Python 3 (ipykernel)",
   "language": "python",
   "name": "python3"
  },
  "language_info": {
   "codemirror_mode": {
    "name": "ipython",
    "version": 3
   },
   "file_extension": ".py",
   "mimetype": "text/x-python",
   "name": "python",
   "nbconvert_exporter": "python",
   "pygments_lexer": "ipython3",
   "version": "3.10.13"
  }
 },
 "nbformat": 4,
 "nbformat_minor": 5
}
